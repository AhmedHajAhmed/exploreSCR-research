{
 "cells": [
  {
   "cell_type": "markdown",
   "id": "7e80b3c2",
   "metadata": {},
   "source": [
    "# ExploreCSR "
   ]
  },
  {
   "cell_type": "code",
   "execution_count": 45,
   "id": "4952f13b",
   "metadata": {},
   "outputs": [
    {
     "data": {
      "text/html": [
       "<div>\n",
       "<style scoped>\n",
       "    .dataframe tbody tr th:only-of-type {\n",
       "        vertical-align: middle;\n",
       "    }\n",
       "\n",
       "    .dataframe tbody tr th {\n",
       "        vertical-align: top;\n",
       "    }\n",
       "\n",
       "    .dataframe thead th {\n",
       "        text-align: right;\n",
       "    }\n",
       "</style>\n",
       "<table border=\"1\" class=\"dataframe\">\n",
       "  <thead>\n",
       "    <tr style=\"text-align: right;\">\n",
       "      <th></th>\n",
       "      <th>Tweet</th>\n",
       "      <th>Class</th>\n",
       "    </tr>\n",
       "  </thead>\n",
       "  <tbody>\n",
       "    <tr>\n",
       "      <th>0</th>\n",
       "      <td>الوزير جبران باسيل تاج راسك يا جربان ممنوع بعد...</td>\n",
       "      <td>abusive</td>\n",
       "    </tr>\n",
       "    <tr>\n",
       "      <th>1</th>\n",
       "      <td>صديقي انت ابن جامعه اللعبه اكبر من داعش اللعبه...</td>\n",
       "      <td>normal</td>\n",
       "    </tr>\n",
       "    <tr>\n",
       "      <th>2</th>\n",
       "      <td>و مصلحة لبنان تبدأ باستخراج النفط و الغاز لوقف...</td>\n",
       "      <td>normal</td>\n",
       "    </tr>\n",
       "    <tr>\n",
       "      <th>3</th>\n",
       "      <td>وليد جنبلاط كاتب الحكمة يا قذر</td>\n",
       "      <td>abusive</td>\n",
       "    </tr>\n",
       "    <tr>\n",
       "      <th>4</th>\n",
       "      <td>شو بتلبقلك كلمة خنزير بتجي مفصله على قياسك وشك...</td>\n",
       "      <td>abusive</td>\n",
       "    </tr>\n",
       "    <tr>\n",
       "      <th>...</th>\n",
       "      <td>...</td>\n",
       "      <td>...</td>\n",
       "    </tr>\n",
       "    <tr>\n",
       "      <th>5841</th>\n",
       "      <td>أمير المليشيا مش خائن</td>\n",
       "      <td>normal</td>\n",
       "    </tr>\n",
       "    <tr>\n",
       "      <th>5842</th>\n",
       "      <td>صدقت يناسبك جدا جدا</td>\n",
       "      <td>normal</td>\n",
       "    </tr>\n",
       "    <tr>\n",
       "      <th>5843</th>\n",
       "      <td>لبخليني حب باسيل شغلتين</td>\n",
       "      <td>normal</td>\n",
       "    </tr>\n",
       "    <tr>\n",
       "      <th>5844</th>\n",
       "      <td>ليش تيوس الإمارت والسعودية مع السوريين واليمني...</td>\n",
       "      <td>hate</td>\n",
       "    </tr>\n",
       "    <tr>\n",
       "      <th>5845</th>\n",
       "      <td>مش دفاعاً عن جبران باسيل بس كان لازم تحط المقط...</td>\n",
       "      <td>normal</td>\n",
       "    </tr>\n",
       "  </tbody>\n",
       "</table>\n",
       "<p>5846 rows × 2 columns</p>\n",
       "</div>"
      ],
      "text/plain": [
       "                                                  Tweet    Class\n",
       "0     الوزير جبران باسيل تاج راسك يا جربان ممنوع بعد...  abusive\n",
       "1     صديقي انت ابن جامعه اللعبه اكبر من داعش اللعبه...   normal\n",
       "2     و مصلحة لبنان تبدأ باستخراج النفط و الغاز لوقف...   normal\n",
       "3                       وليد جنبلاط كاتب الحكمة يا قذر   abusive\n",
       "4     شو بتلبقلك كلمة خنزير بتجي مفصله على قياسك وشك...  abusive\n",
       "...                                                 ...      ...\n",
       "5841                              أمير المليشيا مش خائن   normal\n",
       "5842                               صدقت يناسبك جدا جدا    normal\n",
       "5843                            لبخليني حب باسيل شغلتين   normal\n",
       "5844  ليش تيوس الإمارت والسعودية مع السوريين واليمني...     hate\n",
       "5845  مش دفاعاً عن جبران باسيل بس كان لازم تحط المقط...   normal\n",
       "\n",
       "[5846 rows x 2 columns]"
      ]
     },
     "execution_count": 45,
     "metadata": {},
     "output_type": "execute_result"
    }
   ],
   "source": [
    "# load datasets \n",
    "\n",
    "path = \"datasets/L-HSAB.txt\"\n",
    "\n",
    "import pandas as pd\n",
    " \n",
    "df = pd.read_table(path, delimiter=\"\t\")\n",
    "\n",
    "df"
   ]
  },
  {
   "cell_type": "code",
   "execution_count": 46,
   "id": "cecaeeea",
   "metadata": {},
   "outputs": [
    {
     "data": {
      "text/html": [
       "<div>\n",
       "<style scoped>\n",
       "    .dataframe tbody tr th:only-of-type {\n",
       "        vertical-align: middle;\n",
       "    }\n",
       "\n",
       "    .dataframe tbody tr th {\n",
       "        vertical-align: top;\n",
       "    }\n",
       "\n",
       "    .dataframe thead th {\n",
       "        text-align: right;\n",
       "    }\n",
       "</style>\n",
       "<table border=\"1\" class=\"dataframe\">\n",
       "  <thead>\n",
       "    <tr style=\"text-align: right;\">\n",
       "      <th></th>\n",
       "      <th>Tweet</th>\n",
       "      <th>Class</th>\n",
       "    </tr>\n",
       "  </thead>\n",
       "  <tbody>\n",
       "    <tr>\n",
       "      <th>count</th>\n",
       "      <td>5846</td>\n",
       "      <td>5846</td>\n",
       "    </tr>\n",
       "    <tr>\n",
       "      <th>unique</th>\n",
       "      <td>5754</td>\n",
       "      <td>3</td>\n",
       "    </tr>\n",
       "    <tr>\n",
       "      <th>top</th>\n",
       "      <td>نجحنا بقوتنا شكراً فخامة الرئيس ومعالي الوزير ...</td>\n",
       "      <td>normal</td>\n",
       "    </tr>\n",
       "    <tr>\n",
       "      <th>freq</th>\n",
       "      <td>3</td>\n",
       "      <td>3650</td>\n",
       "    </tr>\n",
       "  </tbody>\n",
       "</table>\n",
       "</div>"
      ],
      "text/plain": [
       "                                                    Tweet   Class\n",
       "count                                                5846    5846\n",
       "unique                                               5754       3\n",
       "top     نجحنا بقوتنا شكراً فخامة الرئيس ومعالي الوزير ...  normal\n",
       "freq                                                    3    3650"
      ]
     },
     "execution_count": 46,
     "metadata": {},
     "output_type": "execute_result"
    }
   ],
   "source": [
    "# describe the data\n",
    "\n",
    "df.describe()"
   ]
  },
  {
   "cell_type": "code",
   "execution_count": 47,
   "id": "346b5cf8",
   "metadata": {},
   "outputs": [
    {
     "data": {
      "text/plain": [
       "Tweet    0\n",
       "Class    0\n",
       "dtype: int64"
      ]
     },
     "execution_count": 47,
     "metadata": {},
     "output_type": "execute_result"
    }
   ],
   "source": [
    "# check null values\n",
    "\n",
    "df.isnull().sum()"
   ]
  },
  {
   "cell_type": "code",
   "execution_count": 48,
   "id": "f1a57458",
   "metadata": {},
   "outputs": [
    {
     "data": {
      "text/plain": [
       "88"
      ]
     },
     "execution_count": 48,
     "metadata": {},
     "output_type": "execute_result"
    }
   ],
   "source": [
    "# check duplicate reviews\n",
    "\n",
    "df.duplicated().sum()"
   ]
  },
  {
   "cell_type": "code",
   "execution_count": 49,
   "id": "6d4492e9",
   "metadata": {},
   "outputs": [
    {
     "data": {
      "text/html": [
       "<div>\n",
       "<style scoped>\n",
       "    .dataframe tbody tr th:only-of-type {\n",
       "        vertical-align: middle;\n",
       "    }\n",
       "\n",
       "    .dataframe tbody tr th {\n",
       "        vertical-align: top;\n",
       "    }\n",
       "\n",
       "    .dataframe thead th {\n",
       "        text-align: right;\n",
       "    }\n",
       "</style>\n",
       "<table border=\"1\" class=\"dataframe\">\n",
       "  <thead>\n",
       "    <tr style=\"text-align: right;\">\n",
       "      <th></th>\n",
       "      <th>Tweet</th>\n",
       "      <th>Class</th>\n",
       "    </tr>\n",
       "  </thead>\n",
       "  <tbody>\n",
       "    <tr>\n",
       "      <th>292</th>\n",
       "      <td>آخر فضيحة</td>\n",
       "      <td>normal</td>\n",
       "    </tr>\n",
       "    <tr>\n",
       "      <th>5214</th>\n",
       "      <td>آخر فضيحة</td>\n",
       "      <td>normal</td>\n",
       "    </tr>\n",
       "    <tr>\n",
       "      <th>3217</th>\n",
       "      <td>أصحاب الرؤوس الفارغة ما عندا شي غير تهاجم الوز...</td>\n",
       "      <td>normal</td>\n",
       "    </tr>\n",
       "    <tr>\n",
       "      <th>4901</th>\n",
       "      <td>أصحاب الرؤوس الفارغة ما عندا شي غير تهاجم الوز...</td>\n",
       "      <td>normal</td>\n",
       "    </tr>\n",
       "    <tr>\n",
       "      <th>1763</th>\n",
       "      <td>أمير قطر يأتي بأوامر أمريكية لمهمة محددة وهي ت...</td>\n",
       "      <td>normal</td>\n",
       "    </tr>\n",
       "    <tr>\n",
       "      <th>...</th>\n",
       "      <td>...</td>\n",
       "      <td>...</td>\n",
       "    </tr>\n",
       "    <tr>\n",
       "      <th>5550</th>\n",
       "      <td>يجب أن يعلم الجميع أن الشجرة المثمرة ترشق دائم...</td>\n",
       "      <td>normal</td>\n",
       "    </tr>\n",
       "    <tr>\n",
       "      <th>1185</th>\n",
       "      <td>يقصف عمرك ما انتنك</td>\n",
       "      <td>abusive</td>\n",
       "    </tr>\n",
       "    <tr>\n",
       "      <th>1867</th>\n",
       "      <td>يقصف عمرك ما انتنك</td>\n",
       "      <td>abusive</td>\n",
       "    </tr>\n",
       "    <tr>\n",
       "      <th>4867</th>\n",
       "      <td>يلي بدو يخوّن جبران باسيل بدو يسمع الجواب</td>\n",
       "      <td>normal</td>\n",
       "    </tr>\n",
       "    <tr>\n",
       "      <th>823</th>\n",
       "      <td>يلي بدو يخوّن جبران باسيل بدو يسمع الجواب</td>\n",
       "      <td>normal</td>\n",
       "    </tr>\n",
       "  </tbody>\n",
       "</table>\n",
       "<p>182 rows × 2 columns</p>\n",
       "</div>"
      ],
      "text/plain": [
       "                                                  Tweet    Class\n",
       "292                                           آخر فضيحة   normal\n",
       "5214                                          آخر فضيحة   normal\n",
       "3217  أصحاب الرؤوس الفارغة ما عندا شي غير تهاجم الوز...   normal\n",
       "4901  أصحاب الرؤوس الفارغة ما عندا شي غير تهاجم الوز...   normal\n",
       "1763  أمير قطر يأتي بأوامر أمريكية لمهمة محددة وهي ت...   normal\n",
       "...                                                 ...      ...\n",
       "5550  يجب أن يعلم الجميع أن الشجرة المثمرة ترشق دائم...   normal\n",
       "1185                                 يقصف عمرك ما انتنك  abusive\n",
       "1867                                 يقصف عمرك ما انتنك  abusive\n",
       "4867          يلي بدو يخوّن جبران باسيل بدو يسمع الجواب   normal\n",
       "823           يلي بدو يخوّن جبران باسيل بدو يسمع الجواب   normal\n",
       "\n",
       "[182 rows x 2 columns]"
      ]
     },
     "execution_count": 49,
     "metadata": {},
     "output_type": "execute_result"
    }
   ],
   "source": [
    "# Print duplicates to see what's happening and to check if they have the same sentiment\n",
    "\n",
    "# Identify duplicates in the 'Tweet' column\n",
    "duplicated_tweets = df[\"Tweet\"].duplicated(keep=False)  # `keep=False` marks all duplicates as True\n",
    "\n",
    "# Filter the DataFrame to keep only duplicates\n",
    "duplicates_df = df[duplicated_tweets]\n",
    "\n",
    "# Sort the DataFrame based on the 'Tweet' column to group duplicates together for easier inspection\n",
    "duplicates_df_sorted = duplicates_df.sort_values(by=\"Tweet\")\n",
    "\n",
    "duplicates_df_sorted"
   ]
  },
  {
   "cell_type": "code",
   "execution_count": 50,
   "id": "811a7f08",
   "metadata": {},
   "outputs": [
    {
     "name": "stdout",
     "output_type": "stream",
     "text": [
      "Cleaned DataFrame shape: (5754, 2)\n"
     ]
    }
   ],
   "source": [
    "# Remove duplicated tweets based on the 'Tweet' column, keeping the first occurrence\n",
    "df = df.drop_duplicates(subset='Tweet', keep='first')\n",
    "\n",
    "# Print the shape of the original and cleaned DataFrames to see the number of rows removed\n",
    "print(f\"Cleaned DataFrame shape: {df.shape}\")"
   ]
  },
  {
   "cell_type": "code",
   "execution_count": null,
   "id": "45b252a1",
   "metadata": {},
   "outputs": [],
   "source": []
  },
  {
   "cell_type": "code",
   "execution_count": 52,
   "id": "30dd0e8b",
   "metadata": {},
   "outputs": [
    {
     "name": "stdout",
     "output_type": "stream",
     "text": [
      "Counts of unique sentiment values:\n",
      "normal     3576\n",
      "abusive    1713\n",
      "hate        465\n",
      "Name: Class, dtype: int64\n",
      "\n",
      "Percentages of unique sentiment values:\n",
      "normal     62.148071\n",
      "abusive    29.770594\n",
      "hate        8.081335\n",
      "Name: Class, dtype: float64\n"
     ]
    }
   ],
   "source": [
    "# Print the unique values and their counts for the 'Class' column \n",
    "\n",
    "# Get counts and percentages of unique values in the 'Sentiment' column\n",
    "sentiment_counts = df['Class'].value_counts()\n",
    "sentiment_percentages = df['Class'].value_counts(normalize=True) * 100\n",
    "\n",
    "# Print the counts and percentages\n",
    "print(\"Counts of unique sentiment values:\")\n",
    "print(sentiment_counts)\n",
    "print(\"\\nPercentages of unique sentiment values:\")\n",
    "print(sentiment_percentages)"
   ]
  },
  {
   "cell_type": "code",
   "execution_count": 54,
   "id": "d8eee62c",
   "metadata": {},
   "outputs": [
    {
     "name": "stderr",
     "output_type": "stream",
     "text": [
      "/var/folders/1d/sjc73vvj2l702mjqyjpnncjw0000gn/T/ipykernel_9417/3602380382.py:4: SettingWithCopyWarning: \n",
      "A value is trying to be set on a copy of a slice from a DataFrame.\n",
      "Try using .loc[row_indexer,col_indexer] = value instead\n",
      "\n",
      "See the caveats in the documentation: https://pandas.pydata.org/pandas-docs/stable/user_guide/indexing.html#returning-a-view-versus-a-copy\n",
      "  df['Tweet_Length'] = df['Tweet'].apply(len)\n"
     ]
    }
   ],
   "source": [
    "# Check for outliers\n",
    "\n",
    "# Calculate the length of each review\n",
    "df['Tweet_Length'] = df['Tweet'].apply(len)"
   ]
  },
  {
   "cell_type": "code",
   "execution_count": 55,
   "id": "da0a9d54",
   "metadata": {},
   "outputs": [
    {
     "data": {
      "text/plain": [
       "count    5754.000000\n",
       "mean       63.683351\n",
       "std        37.828235\n",
       "min         3.000000\n",
       "25%        32.000000\n",
       "50%        57.000000\n",
       "75%        93.000000\n",
       "max       277.000000\n",
       "Name: Tweet_Length, dtype: float64"
      ]
     },
     "execution_count": 55,
     "metadata": {},
     "output_type": "execute_result"
    }
   ],
   "source": [
    "# Get descriptive analysis \n",
    "\n",
    "df['Tweet_Length'].describe()"
   ]
  },
  {
   "cell_type": "code",
   "execution_count": 57,
   "id": "8849d52b",
   "metadata": {
    "scrolled": false
   },
   "outputs": [
    {
     "data": {
      "image/png": "[encoded data removed]",
      "text/plain": [
       "<Figure size 640x480 with 1 Axes>"
      ]
     },
     "metadata": {},
     "output_type": "display_data"
    }
   ],
   "source": [
    "# Plot Tweet Lengths\n",
    "\n",
    "import matplotlib.pyplot as plt\n",
    "import seaborn as sns\n",
    "\n",
    "sns.boxplot(x=df['Tweet_Length'])\n",
    "plt.title('Box Plot of Tweet Lengths')\n",
    "plt.xlabel('Tweet Length')\n",
    "plt.show()"
   ]
  },
  {
   "cell_type": "code",
   "execution_count": 58,
   "id": "e49882d6",
   "metadata": {},
   "outputs": [
    {
     "name": "stdout",
     "output_type": "stream",
     "text": [
      "Number of outliers: 49\n"
     ]
    }
   ],
   "source": [
    "# IQR method for identifying outliers\n",
    "\n",
    "# Calculate the first and third quartile\n",
    "Q1 = df['Tweet_Length'].quantile(0.25)\n",
    "Q3 = df['Tweet_Length'].quantile(0.75)\n",
    "\n",
    "# Calculate the Interquartile Range (IQR)\n",
    "IQR = Q3 - Q1\n",
    "\n",
    "# Define the bounds for non-outliers\n",
    "lower_bound = Q1 - 1.5 * IQR\n",
    "upper_bound = Q3 + 1.5 * IQR\n",
    "\n",
    "outliers = df[(df['Tweet_Length'] < lower_bound) | (df['Tweet_Length'] > upper_bound)]\n",
    "print(f\"Number of outliers: {len(outliers)}\")"
   ]
  },
  {
   "cell_type": "code",
   "execution_count": 60,
   "id": "c441e977",
   "metadata": {},
   "outputs": [],
   "source": [
    "# Remove outliers \n",
    "\n",
    "# Filter the DataFrame to remove outliers\n",
    "df = df[(df['Tweet_Length'] >= lower_bound) & (df['Tweet_Length'] <= upper_bound)]"
   ]
  },
  {
   "cell_type": "code",
   "execution_count": null,
   "id": "6b5bd3a1",
   "metadata": {},
   "outputs": [],
   "source": []
  },
  {
   "cell_type": "code",
   "execution_count": null,
   "id": "27e9f4b9",
   "metadata": {},
   "outputs": [],
   "source": []
  },
  {
   "cell_type": "code",
   "execution_count": null,
   "id": "14700789",
   "metadata": {},
   "outputs": [],
   "source": []
  },
  {
   "cell_type": "code",
   "execution_count": null,
   "id": "989a035e",
   "metadata": {},
   "outputs": [],
   "source": []
  },
  {
   "cell_type": "code",
   "execution_count": null,
   "id": "f925a86d",
   "metadata": {},
   "outputs": [],
   "source": []
  },
  {
   "cell_type": "code",
   "execution_count": 62,
   "id": "779cfdce",
   "metadata": {},
   "outputs": [
    {
     "data": {
      "text/html": [
       "<div>\n",
       "<style scoped>\n",
       "    .dataframe tbody tr th:only-of-type {\n",
       "        vertical-align: middle;\n",
       "    }\n",
       "\n",
       "    .dataframe tbody tr th {\n",
       "        vertical-align: top;\n",
       "    }\n",
       "\n",
       "    .dataframe thead th {\n",
       "        text-align: right;\n",
       "    }\n",
       "</style>\n",
       "<table border=\"1\" class=\"dataframe\">\n",
       "  <thead>\n",
       "    <tr style=\"text-align: right;\">\n",
       "      <th></th>\n",
       "      <th>text</th>\n",
       "      <th>category</th>\n",
       "      <th>misogyny</th>\n",
       "      <th>target</th>\n",
       "    </tr>\n",
       "  </thead>\n",
       "  <tbody>\n",
       "    <tr>\n",
       "      <th>0</th>\n",
       "      <td>@AhmadMoussaly @DimaSadek اي نحن ما منقبلها صر...</td>\n",
       "      <td>discredit</td>\n",
       "      <td>misogyny</td>\n",
       "      <td>active</td>\n",
       "    </tr>\n",
       "    <tr>\n",
       "      <th>1</th>\n",
       "      <td>@berrynawal نوال شو قصتك كل يوم بتاكلي قتله شو...</td>\n",
       "      <td>none</td>\n",
       "      <td>none</td>\n",
       "      <td>none</td>\n",
       "    </tr>\n",
       "    <tr>\n",
       "      <th>2</th>\n",
       "      <td>@DimaSadek انشالله بيقبر قلبك عن قريب ...يافهي...</td>\n",
       "      <td>damning</td>\n",
       "      <td>misogyny</td>\n",
       "      <td>active</td>\n",
       "    </tr>\n",
       "    <tr>\n",
       "      <th>3</th>\n",
       "      <td>@DimaSadek @LBCI_NEWS @JeanFeghali يسلم لسانك ...</td>\n",
       "      <td>none</td>\n",
       "      <td>none</td>\n",
       "      <td>none</td>\n",
       "    </tr>\n",
       "    <tr>\n",
       "      <th>4</th>\n",
       "      <td>@RammalNaima @DimaSadek من بجيب الحشيش عبيروت ...</td>\n",
       "      <td>none</td>\n",
       "      <td>none</td>\n",
       "      <td>none</td>\n",
       "    </tr>\n",
       "    <tr>\n",
       "      <th>...</th>\n",
       "      <td>...</td>\n",
       "      <td>...</td>\n",
       "      <td>...</td>\n",
       "      <td>...</td>\n",
       "    </tr>\n",
       "    <tr>\n",
       "      <th>5235</th>\n",
       "      <td>@berrynawal تفه يا نوال</td>\n",
       "      <td>discredit</td>\n",
       "      <td>misogyny</td>\n",
       "      <td>active</td>\n",
       "    </tr>\n",
       "    <tr>\n",
       "      <th>5236</th>\n",
       "      <td>@Asadlassa1 @DimaSadek هي هبلة الله يشفيها</td>\n",
       "      <td>discredit</td>\n",
       "      <td>misogyny</td>\n",
       "      <td>active</td>\n",
       "    </tr>\n",
       "    <tr>\n",
       "      <th>5237</th>\n",
       "      <td>@yumnafawaz @samygemayel تفكيرك بسيط ومحدود طل...</td>\n",
       "      <td>none</td>\n",
       "      <td>none</td>\n",
       "      <td>none</td>\n",
       "    </tr>\n",
       "    <tr>\n",
       "      <th>5238</th>\n",
       "      <td>@DimaSadek ديما...فيكي بليز تعملي block لكل يل...</td>\n",
       "      <td>none</td>\n",
       "      <td>none</td>\n",
       "      <td>none</td>\n",
       "    </tr>\n",
       "    <tr>\n",
       "      <th>5239</th>\n",
       "      <td>@DimaSadek افضل من الولاء للعهر</td>\n",
       "      <td>none</td>\n",
       "      <td>none</td>\n",
       "      <td>none</td>\n",
       "    </tr>\n",
       "  </tbody>\n",
       "</table>\n",
       "<p>5240 rows × 4 columns</p>\n",
       "</div>"
      ],
      "text/plain": [
       "                                                   text   category  misogyny  \\\n",
       "0     @AhmadMoussaly @DimaSadek اي نحن ما منقبلها صر...  discredit  misogyny   \n",
       "1     @berrynawal نوال شو قصتك كل يوم بتاكلي قتله شو...       none      none   \n",
       "2     @DimaSadek انشالله بيقبر قلبك عن قريب ...يافهي...    damning  misogyny   \n",
       "3     @DimaSadek @LBCI_NEWS @JeanFeghali يسلم لسانك ...       none      none   \n",
       "4     @RammalNaima @DimaSadek من بجيب الحشيش عبيروت ...       none      none   \n",
       "...                                                 ...        ...       ...   \n",
       "5235                            @berrynawal تفه يا نوال  discredit  misogyny   \n",
       "5236         @Asadlassa1 @DimaSadek هي هبلة الله يشفيها  discredit  misogyny   \n",
       "5237  @yumnafawaz @samygemayel تفكيرك بسيط ومحدود طل...       none      none   \n",
       "5238  @DimaSadek ديما...فيكي بليز تعملي block لكل يل...       none      none   \n",
       "5239                    @DimaSadek افضل من الولاء للعهر       none      none   \n",
       "\n",
       "      target  \n",
       "0     active  \n",
       "1       none  \n",
       "2     active  \n",
       "3       none  \n",
       "4       none  \n",
       "...      ...  \n",
       "5235  active  \n",
       "5236  active  \n",
       "5237    none  \n",
       "5238    none  \n",
       "5239    none  \n",
       "\n",
       "[5240 rows x 4 columns]"
      ]
     },
     "execution_count": 62,
     "metadata": {},
     "output_type": "execute_result"
    }
   ],
   "source": [
    "# let-mi_train_part.csv\n",
    "\n",
    "df2 = pd.read_csv(\"datasets/let-mi_train_part.csv\")\n",
    "\n",
    "df2"
   ]
  },
  {
   "cell_type": "code",
   "execution_count": 63,
   "id": "f00c8c6e",
   "metadata": {},
   "outputs": [
    {
     "data": {
      "text/html": [
       "<div>\n",
       "<style scoped>\n",
       "    .dataframe tbody tr th:only-of-type {\n",
       "        vertical-align: middle;\n",
       "    }\n",
       "\n",
       "    .dataframe tbody tr th {\n",
       "        vertical-align: top;\n",
       "    }\n",
       "\n",
       "    .dataframe thead th {\n",
       "        text-align: right;\n",
       "    }\n",
       "</style>\n",
       "<table border=\"1\" class=\"dataframe\">\n",
       "  <thead>\n",
       "    <tr style=\"text-align: right;\">\n",
       "      <th></th>\n",
       "      <th>text</th>\n",
       "      <th>category</th>\n",
       "      <th>misogyny</th>\n",
       "      <th>target</th>\n",
       "    </tr>\n",
       "  </thead>\n",
       "  <tbody>\n",
       "    <tr>\n",
       "      <th>count</th>\n",
       "      <td>5240</td>\n",
       "      <td>5240</td>\n",
       "      <td>5240</td>\n",
       "      <td>5240</td>\n",
       "    </tr>\n",
       "    <tr>\n",
       "      <th>unique</th>\n",
       "      <td>5229</td>\n",
       "      <td>8</td>\n",
       "      <td>2</td>\n",
       "      <td>2</td>\n",
       "    </tr>\n",
       "    <tr>\n",
       "      <th>top</th>\n",
       "      <td>@DimaSadek يا حمارة يا سطله ما بتفهمي عربي ، س...</td>\n",
       "      <td>none</td>\n",
       "      <td>none</td>\n",
       "      <td>none</td>\n",
       "    </tr>\n",
       "    <tr>\n",
       "      <th>freq</th>\n",
       "      <td>2</td>\n",
       "      <td>2654</td>\n",
       "      <td>2654</td>\n",
       "      <td>2654</td>\n",
       "    </tr>\n",
       "  </tbody>\n",
       "</table>\n",
       "</div>"
      ],
      "text/plain": [
       "                                                     text category misogyny  \\\n",
       "count                                                5240     5240     5240   \n",
       "unique                                               5229        8        2   \n",
       "top     @DimaSadek يا حمارة يا سطله ما بتفهمي عربي ، س...     none     none   \n",
       "freq                                                    2     2654     2654   \n",
       "\n",
       "       target  \n",
       "count    5240  \n",
       "unique      2  \n",
       "top      none  \n",
       "freq     2654  "
      ]
     },
     "execution_count": 63,
     "metadata": {},
     "output_type": "execute_result"
    }
   ],
   "source": [
    "# describe the data\n",
    "\n",
    "df2.describe()"
   ]
  },
  {
   "cell_type": "code",
   "execution_count": 65,
   "id": "1561a6d6",
   "metadata": {},
   "outputs": [
    {
     "data": {
      "text/plain": [
       "text        0\n",
       "category    0\n",
       "misogyny    0\n",
       "target      0\n",
       "dtype: int64"
      ]
     },
     "execution_count": 65,
     "metadata": {},
     "output_type": "execute_result"
    }
   ],
   "source": [
    "# check null values\n",
    "\n",
    "df2.isnull().sum()"
   ]
  },
  {
   "cell_type": "code",
   "execution_count": 66,
   "id": "647cd50c",
   "metadata": {},
   "outputs": [
    {
     "data": {
      "text/plain": [
       "9"
      ]
     },
     "execution_count": 66,
     "metadata": {},
     "output_type": "execute_result"
    }
   ],
   "source": [
    "# check duplicate reviews\n",
    "\n",
    "df2.duplicated().sum()"
   ]
  },
  {
   "cell_type": "code",
   "execution_count": 68,
   "id": "b5eec0c0",
   "metadata": {},
   "outputs": [
    {
     "data": {
      "text/html": [
       "<div>\n",
       "<style scoped>\n",
       "    .dataframe tbody tr th:only-of-type {\n",
       "        vertical-align: middle;\n",
       "    }\n",
       "\n",
       "    .dataframe tbody tr th {\n",
       "        vertical-align: top;\n",
       "    }\n",
       "\n",
       "    .dataframe thead th {\n",
       "        text-align: right;\n",
       "    }\n",
       "</style>\n",
       "<table border=\"1\" class=\"dataframe\">\n",
       "  <thead>\n",
       "    <tr style=\"text-align: right;\">\n",
       "      <th></th>\n",
       "      <th>text</th>\n",
       "      <th>category</th>\n",
       "      <th>misogyny</th>\n",
       "      <th>target</th>\n",
       "    </tr>\n",
       "  </thead>\n",
       "  <tbody>\n",
       "    <tr>\n",
       "      <th>5177</th>\n",
       "      <td>@DimaSadek تفه تفه تفه عليكي</td>\n",
       "      <td>discredit</td>\n",
       "      <td>misogyny</td>\n",
       "      <td>active</td>\n",
       "    </tr>\n",
       "    <tr>\n",
       "      <th>1582</th>\n",
       "      <td>@DimaSadek تفه تفه تفه عليكي</td>\n",
       "      <td>discredit</td>\n",
       "      <td>misogyny</td>\n",
       "      <td>active</td>\n",
       "    </tr>\n",
       "    <tr>\n",
       "      <th>3680</th>\n",
       "      <td>@DimaSadek سدي بوزك يقطع عمرك ما اسخقك \\r\\n#دي...</td>\n",
       "      <td>discredit</td>\n",
       "      <td>misogyny</td>\n",
       "      <td>active</td>\n",
       "    </tr>\n",
       "    <tr>\n",
       "      <th>2508</th>\n",
       "      <td>@DimaSadek سدي بوزك يقطع عمرك ما اسخقك \\r\\n#دي...</td>\n",
       "      <td>discredit</td>\n",
       "      <td>misogyny</td>\n",
       "      <td>active</td>\n",
       "    </tr>\n",
       "    <tr>\n",
       "      <th>578</th>\n",
       "      <td>@DimaSadek قال لن يسقط العهد مش الحكومة يا هبلة!</td>\n",
       "      <td>discredit</td>\n",
       "      <td>misogyny</td>\n",
       "      <td>active</td>\n",
       "    </tr>\n",
       "    <tr>\n",
       "      <th>3249</th>\n",
       "      <td>@DimaSadek قال لن يسقط العهد مش الحكومة يا هبلة!</td>\n",
       "      <td>discredit</td>\n",
       "      <td>misogyny</td>\n",
       "      <td>active</td>\n",
       "    </tr>\n",
       "    <tr>\n",
       "      <th>290</th>\n",
       "      <td>@DimaSadek يا حمارة يا سطله ما بتفهمي عربي ، س...</td>\n",
       "      <td>discredit</td>\n",
       "      <td>misogyny</td>\n",
       "      <td>active</td>\n",
       "    </tr>\n",
       "    <tr>\n",
       "      <th>3432</th>\n",
       "      <td>@DimaSadek يا حمارة يا سطله ما بتفهمي عربي ، س...</td>\n",
       "      <td>discredit</td>\n",
       "      <td>misogyny</td>\n",
       "      <td>active</td>\n",
       "    </tr>\n",
       "    <tr>\n",
       "      <th>22</th>\n",
       "      <td>@DimaSadek يا مريضة موتي</td>\n",
       "      <td>discredit</td>\n",
       "      <td>misogyny</td>\n",
       "      <td>active</td>\n",
       "    </tr>\n",
       "    <tr>\n",
       "      <th>4015</th>\n",
       "      <td>@DimaSadek يا مريضة موتي</td>\n",
       "      <td>damning</td>\n",
       "      <td>misogyny</td>\n",
       "      <td>active</td>\n",
       "    </tr>\n",
       "    <tr>\n",
       "      <th>2490</th>\n",
       "      <td>@berrynawal سلامتك يا نوال</td>\n",
       "      <td>none</td>\n",
       "      <td>none</td>\n",
       "      <td>none</td>\n",
       "    </tr>\n",
       "    <tr>\n",
       "      <th>2980</th>\n",
       "      <td>@berrynawal سلامتك يا نوال</td>\n",
       "      <td>none</td>\n",
       "      <td>none</td>\n",
       "      <td>none</td>\n",
       "    </tr>\n",
       "    <tr>\n",
       "      <th>3957</th>\n",
       "      <td>@berrynawal يسلم تمك</td>\n",
       "      <td>none</td>\n",
       "      <td>none</td>\n",
       "      <td>none</td>\n",
       "    </tr>\n",
       "    <tr>\n",
       "      <th>220</th>\n",
       "      <td>@berrynawal يسلم تمك</td>\n",
       "      <td>none</td>\n",
       "      <td>none</td>\n",
       "      <td>none</td>\n",
       "    </tr>\n",
       "    <tr>\n",
       "      <th>1266</th>\n",
       "      <td>@moeshamseddine @DimaSadek يسلملي جمالك</td>\n",
       "      <td>none</td>\n",
       "      <td>none</td>\n",
       "      <td>none</td>\n",
       "    </tr>\n",
       "    <tr>\n",
       "      <th>4717</th>\n",
       "      <td>@moeshamseddine @DimaSadek يسلملي جمالك</td>\n",
       "      <td>none</td>\n",
       "      <td>none</td>\n",
       "      <td>none</td>\n",
       "    </tr>\n",
       "    <tr>\n",
       "      <th>1172</th>\n",
       "      <td>@yumnafawaz انتي ولا كلمة بتطلع مزبوطة معيك ��...</td>\n",
       "      <td>stereotyping &amp; objectification</td>\n",
       "      <td>misogyny</td>\n",
       "      <td>active</td>\n",
       "    </tr>\n",
       "    <tr>\n",
       "      <th>1676</th>\n",
       "      <td>@yumnafawaz انتي ولا كلمة بتطلع مزبوطة معيك ��...</td>\n",
       "      <td>damning</td>\n",
       "      <td>misogyny</td>\n",
       "      <td>active</td>\n",
       "    </tr>\n",
       "    <tr>\n",
       "      <th>4349</th>\n",
       "      <td>RT @KhaledMawlla1: برافو نانسي السبع اللي رفضت...</td>\n",
       "      <td>none</td>\n",
       "      <td>none</td>\n",
       "      <td>none</td>\n",
       "    </tr>\n",
       "    <tr>\n",
       "      <th>3129</th>\n",
       "      <td>RT @KhaledMawlla1: برافو نانسي السبع اللي رفضت...</td>\n",
       "      <td>none</td>\n",
       "      <td>none</td>\n",
       "      <td>none</td>\n",
       "    </tr>\n",
       "    <tr>\n",
       "      <th>1801</th>\n",
       "      <td>RT @zeinayaso82: @alimourtda @ramezelkadi نانس...</td>\n",
       "      <td>none</td>\n",
       "      <td>none</td>\n",
       "      <td>none</td>\n",
       "    </tr>\n",
       "    <tr>\n",
       "      <th>3936</th>\n",
       "      <td>RT @zeinayaso82: @alimourtda @ramezelkadi نانس...</td>\n",
       "      <td>none</td>\n",
       "      <td>none</td>\n",
       "      <td>none</td>\n",
       "    </tr>\n",
       "  </tbody>\n",
       "</table>\n",
       "</div>"
      ],
      "text/plain": [
       "                                                   text  \\\n",
       "5177                       @DimaSadek تفه تفه تفه عليكي   \n",
       "1582                       @DimaSadek تفه تفه تفه عليكي   \n",
       "3680  @DimaSadek سدي بوزك يقطع عمرك ما اسخقك \\r\\n#دي...   \n",
       "2508  @DimaSadek سدي بوزك يقطع عمرك ما اسخقك \\r\\n#دي...   \n",
       "578    @DimaSadek قال لن يسقط العهد مش الحكومة يا هبلة!   \n",
       "3249   @DimaSadek قال لن يسقط العهد مش الحكومة يا هبلة!   \n",
       "290   @DimaSadek يا حمارة يا سطله ما بتفهمي عربي ، س...   \n",
       "3432  @DimaSadek يا حمارة يا سطله ما بتفهمي عربي ، س...   \n",
       "22                             @DimaSadek يا مريضة موتي   \n",
       "4015                           @DimaSadek يا مريضة موتي   \n",
       "2490                         @berrynawal سلامتك يا نوال   \n",
       "2980                         @berrynawal سلامتك يا نوال   \n",
       "3957                               @berrynawal يسلم تمك   \n",
       "220                                @berrynawal يسلم تمك   \n",
       "1266            @moeshamseddine @DimaSadek يسلملي جمالك   \n",
       "4717            @moeshamseddine @DimaSadek يسلملي جمالك   \n",
       "1172  @yumnafawaz انتي ولا كلمة بتطلع مزبوطة معيك ��...   \n",
       "1676  @yumnafawaz انتي ولا كلمة بتطلع مزبوطة معيك ��...   \n",
       "4349  RT @KhaledMawlla1: برافو نانسي السبع اللي رفضت...   \n",
       "3129  RT @KhaledMawlla1: برافو نانسي السبع اللي رفضت...   \n",
       "1801  RT @zeinayaso82: @alimourtda @ramezelkadi نانس...   \n",
       "3936  RT @zeinayaso82: @alimourtda @ramezelkadi نانس...   \n",
       "\n",
       "                            category  misogyny  target  \n",
       "5177                       discredit  misogyny  active  \n",
       "1582                       discredit  misogyny  active  \n",
       "3680                       discredit  misogyny  active  \n",
       "2508                       discredit  misogyny  active  \n",
       "578                        discredit  misogyny  active  \n",
       "3249                       discredit  misogyny  active  \n",
       "290                        discredit  misogyny  active  \n",
       "3432                       discredit  misogyny  active  \n",
       "22                         discredit  misogyny  active  \n",
       "4015                         damning  misogyny  active  \n",
       "2490                            none      none    none  \n",
       "2980                            none      none    none  \n",
       "3957                            none      none    none  \n",
       "220                             none      none    none  \n",
       "1266                            none      none    none  \n",
       "4717                            none      none    none  \n",
       "1172  stereotyping & objectification  misogyny  active  \n",
       "1676                         damning  misogyny  active  \n",
       "4349                            none      none    none  \n",
       "3129                            none      none    none  \n",
       "1801                            none      none    none  \n",
       "3936                            none      none    none  "
      ]
     },
     "execution_count": 68,
     "metadata": {},
     "output_type": "execute_result"
    }
   ],
   "source": [
    "# Print duplicates to see what's happening and to check if they have the same sentiment\n",
    "\n",
    "# Identify duplicates in the 'Tweet' column\n",
    "duplicated_tweets2 = df2[\"text\"].duplicated(keep=False)  # `keep=False` marks all duplicates as True\n",
    "\n",
    "# Filter the DataFrame to keep only duplicates\n",
    "duplicates_df2 = df2[duplicated_tweets2]\n",
    "\n",
    "# Sort the DataFrame based on the 'Tweet' column to group duplicates together for easier inspection\n",
    "duplicates_df_sorted2 = duplicates_df2.sort_values(by=\"text\")\n",
    "\n",
    "duplicates_df_sorted2"
   ]
  },
  {
   "cell_type": "code",
   "execution_count": 70,
   "id": "dbae8059",
   "metadata": {},
   "outputs": [
    {
     "name": "stdout",
     "output_type": "stream",
     "text": [
      "Cleaned DataFrame shape: (5229, 4)\n"
     ]
    }
   ],
   "source": [
    "# Remove duplicated tweets based on the 'Tweet' column, keeping the first occurrence\n",
    "df2 = df2.drop_duplicates(subset='text', keep='first')\n",
    "\n",
    "# Print the shape of the original and cleaned DataFrames to see the number of rows removed\n",
    "print(f\"Cleaned DataFrame shape: {df2.shape}\")"
   ]
  },
  {
   "cell_type": "code",
   "execution_count": 71,
   "id": "8967da75",
   "metadata": {},
   "outputs": [
    {
     "name": "stdout",
     "output_type": "stream",
     "text": [
      "Counts of unique sentiment values:\n",
      "none                              2649\n",
      "discredit                         1902\n",
      "stereotyping & objectification     232\n",
      "damning                            204\n",
      "threat of violence                 140\n",
      "derailing                           49\n",
      "dominance                           36\n",
      "sexual harassment                   17\n",
      "Name: category, dtype: int64\n",
      "\n",
      "Percentages of unique sentiment values:\n",
      "none                              50.659782\n",
      "discredit                         36.374068\n",
      "stereotyping & objectification     4.436795\n",
      "damning                            3.901320\n",
      "threat of violence                 2.677376\n",
      "derailing                          0.937082\n",
      "dominance                          0.688468\n",
      "sexual harassment                  0.325110\n",
      "Name: category, dtype: float64\n"
     ]
    }
   ],
   "source": [
    "# Print the unique values and their counts for the 'category' column \n",
    "\n",
    "# Get counts and percentages of unique values in the 'Sentiment' column\n",
    "sentiment_counts2 = df2['category'].value_counts()\n",
    "sentiment_percentages2 = df2['category'].value_counts(normalize=True) * 100\n",
    "\n",
    "# Print the counts and percentages\n",
    "print(\"Counts of unique sentiment values:\")\n",
    "print(sentiment_counts2)\n",
    "print(\"\\nPercentages of unique sentiment values:\")\n",
    "print(sentiment_percentages2)"
   ]
  },
  {
   "cell_type": "code",
   "execution_count": 72,
   "id": "f5179812",
   "metadata": {},
   "outputs": [
    {
     "name": "stderr",
     "output_type": "stream",
     "text": [
      "/var/folders/1d/sjc73vvj2l702mjqyjpnncjw0000gn/T/ipykernel_9417/1258092540.py:4: SettingWithCopyWarning: \n",
      "A value is trying to be set on a copy of a slice from a DataFrame.\n",
      "Try using .loc[row_indexer,col_indexer] = value instead\n",
      "\n",
      "See the caveats in the documentation: https://pandas.pydata.org/pandas-docs/stable/user_guide/indexing.html#returning-a-view-versus-a-copy\n",
      "  df2['Tweet_Length'] = df2['text'].apply(len)\n"
     ]
    }
   ],
   "source": [
    "# Check for outliers\n",
    "\n",
    "# Calculate the length of each review\n",
    "df2['Tweet_Length'] = df2['text'].apply(len)"
   ]
  },
  {
   "cell_type": "code",
   "execution_count": 80,
   "id": "f2be6f97",
   "metadata": {},
   "outputs": [
    {
     "data": {
      "text/plain": [
       "count    5229.000000\n",
       "mean       75.149933\n",
       "std        37.658171\n",
       "min        17.000000\n",
       "25%        43.000000\n",
       "50%        64.000000\n",
       "75%       104.000000\n",
       "max       146.000000\n",
       "Name: Tweet_Length, dtype: float64"
      ]
     },
     "execution_count": 80,
     "metadata": {},
     "output_type": "execute_result"
    }
   ],
   "source": [
    "# Get descriptive analysis \n",
    "\n",
    "df2['Tweet_Length'].describe()"
   ]
  },
  {
   "cell_type": "code",
   "execution_count": 81,
   "id": "706b21d2",
   "metadata": {},
   "outputs": [
    {
     "data": {
      "image/png": "[encoded data removed]",
      "text/plain": [
       "<Figure size 640x480 with 1 Axes>"
      ]
     },
     "metadata": {},
     "output_type": "display_data"
    }
   ],
   "source": [
    "# Plot Tweet Lengths\n",
    "\n",
    "sns.boxplot(x=df2['Tweet_Length'])\n",
    "plt.title('Box Plot of Tweet Lengths')\n",
    "plt.xlabel('Tweet Length')\n",
    "plt.show()"
   ]
  },
  {
   "cell_type": "code",
   "execution_count": 79,
   "id": "5d1f108c",
   "metadata": {},
   "outputs": [
    {
     "name": "stdout",
     "output_type": "stream",
     "text": [
      "Number of outliers: 0\n"
     ]
    }
   ],
   "source": [
    "# IQR method for identifying outliers\n",
    "\n",
    "# Calculate the first and third quartile\n",
    "Q1 = df2['Tweet_Length'].quantile(0.25)\n",
    "Q3 = df2['Tweet_Length'].quantile(0.75)\n",
    "\n",
    "# Calculate the Interquartile Range (IQR)\n",
    "IQR = Q3 - Q1\n",
    "\n",
    "# Define the bounds for non-outliers\n",
    "lower_bound = Q1 - 1.5 * IQR\n",
    "upper_bound = Q3 + 1.5 * IQR\n",
    "\n",
    "outliers = df2[(df2['Tweet_Length'] < lower_bound) | (df2['Tweet_Length'] > upper_bound)]\n",
    "print(f\"Number of outliers: {len(outliers)}\")"
   ]
  },
  {
   "cell_type": "code",
   "execution_count": null,
   "id": "402646ae",
   "metadata": {},
   "outputs": [],
   "source": []
  },
  {
   "cell_type": "code",
   "execution_count": null,
   "id": "0d3d9c3a",
   "metadata": {},
   "outputs": [],
   "source": []
  },
  {
   "cell_type": "code",
   "execution_count": null,
   "id": "4094cd7d",
   "metadata": {},
   "outputs": [],
   "source": []
  },
  {
   "cell_type": "code",
   "execution_count": null,
   "id": "1b15c039",
   "metadata": {},
   "outputs": [],
   "source": []
  },
  {
   "cell_type": "code",
   "execution_count": null,
   "id": "ecc8985d",
   "metadata": {},
   "outputs": [],
   "source": []
  },
  {
   "cell_type": "code",
   "execution_count": null,
   "id": "8d7d69c4",
   "metadata": {},
   "outputs": [],
   "source": []
  },
  {
   "cell_type": "code",
   "execution_count": null,
   "id": "030163d0",
   "metadata": {},
   "outputs": [],
   "source": []
  },
  {
   "cell_type": "code",
   "execution_count": null,
   "id": "dff7919f",
   "metadata": {},
   "outputs": [],
   "source": []
  },
  {
   "cell_type": "code",
   "execution_count": null,
   "id": "fdc8b83b",
   "metadata": {},
   "outputs": [],
   "source": []
  },
  {
   "cell_type": "code",
   "execution_count": null,
   "id": "d1a0768d",
   "metadata": {},
   "outputs": [],
   "source": []
  },
  {
   "cell_type": "code",
   "execution_count": null,
   "id": "f2a42f5a",
   "metadata": {},
   "outputs": [],
   "source": []
  }
 ],
 "metadata": {
  "kernelspec": {
   "display_name": "Python 3 (ipykernel)",
   "language": "python",
   "name": "python3"
  },
  "language_info": {
   "codemirror_mode": {
    "name": "ipython",
    "version": 3
   },
   "file_extension": ".py",
   "mimetype": "text/x-python",
   "name": "python",
   "nbconvert_exporter": "python",
   "pygments_lexer": "ipython3",
   "version": "3.11.3"
  }
 },
 "nbformat": 4,
 "nbformat_minor": 5
}
