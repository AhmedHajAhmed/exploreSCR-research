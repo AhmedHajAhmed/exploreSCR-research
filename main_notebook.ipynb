{
 "cells": [
  {
   "cell_type": "markdown",
   "id": "7e80b3c2",
   "metadata": {},
   "source": [
    "# ExploreCSR: Evaluating the effectiveness of various ML models in detecting and classifying hate speech in Levantine Arabic"
   ]
  },
  {
   "cell_type": "code",
   "execution_count": 59,
   "id": "4952f13b",
   "metadata": {},
   "outputs": [
    {
     "data": {
      "text/html": [
       "<div>\n",
       "<style scoped>\n",
       "    .dataframe tbody tr th:only-of-type {\n",
       "        vertical-align: middle;\n",
       "    }\n",
       "\n",
       "    .dataframe tbody tr th {\n",
       "        vertical-align: top;\n",
       "    }\n",
       "\n",
       "    .dataframe thead th {\n",
       "        text-align: right;\n",
       "    }\n",
       "</style>\n",
       "<table border=\"1\" class=\"dataframe\">\n",
       "  <thead>\n",
       "    <tr style=\"text-align: right;\">\n",
       "      <th></th>\n",
       "      <th>Tweet</th>\n",
       "      <th>Class</th>\n",
       "    </tr>\n",
       "  </thead>\n",
       "  <tbody>\n",
       "    <tr>\n",
       "      <th>0</th>\n",
       "      <td>الوزير جبران باسيل تاج راسك يا جربان ممنوع بعد...</td>\n",
       "      <td>abusive</td>\n",
       "    </tr>\n",
       "    <tr>\n",
       "      <th>1</th>\n",
       "      <td>صديقي انت ابن جامعه اللعبه اكبر من داعش اللعبه...</td>\n",
       "      <td>normal</td>\n",
       "    </tr>\n",
       "    <tr>\n",
       "      <th>2</th>\n",
       "      <td>و مصلحة لبنان تبدأ باستخراج النفط و الغاز لوقف...</td>\n",
       "      <td>normal</td>\n",
       "    </tr>\n",
       "    <tr>\n",
       "      <th>3</th>\n",
       "      <td>وليد جنبلاط كاتب الحكمة يا قذر</td>\n",
       "      <td>abusive</td>\n",
       "    </tr>\n",
       "    <tr>\n",
       "      <th>4</th>\n",
       "      <td>شو بتلبقلك كلمة خنزير بتجي مفصله على قياسك وشك...</td>\n",
       "      <td>abusive</td>\n",
       "    </tr>\n",
       "    <tr>\n",
       "      <th>...</th>\n",
       "      <td>...</td>\n",
       "      <td>...</td>\n",
       "    </tr>\n",
       "    <tr>\n",
       "      <th>5841</th>\n",
       "      <td>أمير المليشيا مش خائن</td>\n",
       "      <td>normal</td>\n",
       "    </tr>\n",
       "    <tr>\n",
       "      <th>5842</th>\n",
       "      <td>صدقت يناسبك جدا جدا</td>\n",
       "      <td>normal</td>\n",
       "    </tr>\n",
       "    <tr>\n",
       "      <th>5843</th>\n",
       "      <td>لبخليني حب باسيل شغلتين</td>\n",
       "      <td>normal</td>\n",
       "    </tr>\n",
       "    <tr>\n",
       "      <th>5844</th>\n",
       "      <td>ليش تيوس الإمارت والسعودية مع السوريين واليمني...</td>\n",
       "      <td>hate</td>\n",
       "    </tr>\n",
       "    <tr>\n",
       "      <th>5845</th>\n",
       "      <td>مش دفاعاً عن جبران باسيل بس كان لازم تحط المقط...</td>\n",
       "      <td>normal</td>\n",
       "    </tr>\n",
       "  </tbody>\n",
       "</table>\n",
       "<p>5846 rows × 2 columns</p>\n",
       "</div>"
      ],
      "text/plain": [
       "                                                  Tweet    Class\n",
       "0     الوزير جبران باسيل تاج راسك يا جربان ممنوع بعد...  abusive\n",
       "1     صديقي انت ابن جامعه اللعبه اكبر من داعش اللعبه...   normal\n",
       "2     و مصلحة لبنان تبدأ باستخراج النفط و الغاز لوقف...   normal\n",
       "3                       وليد جنبلاط كاتب الحكمة يا قذر   abusive\n",
       "4     شو بتلبقلك كلمة خنزير بتجي مفصله على قياسك وشك...  abusive\n",
       "...                                                 ...      ...\n",
       "5841                              أمير المليشيا مش خائن   normal\n",
       "5842                               صدقت يناسبك جدا جدا    normal\n",
       "5843                            لبخليني حب باسيل شغلتين   normal\n",
       "5844  ليش تيوس الإمارت والسعودية مع السوريين واليمني...     hate\n",
       "5845  مش دفاعاً عن جبران باسيل بس كان لازم تحط المقط...   normal\n",
       "\n",
       "[5846 rows x 2 columns]"
      ]
     },
     "execution_count": 59,
     "metadata": {},
     "output_type": "execute_result"
    }
   ],
   "source": [
    "# load datasets \n",
    "\n",
    "path = \"datasets/L-HSAB.txt\"\n",
    "\n",
    "import pandas as pd\n",
    " \n",
    "df = pd.read_table(path, delimiter=\"\t\")\n",
    "\n",
    "df"
   ]
  },
  {
   "cell_type": "code",
   "execution_count": 60,
   "id": "cecaeeea",
   "metadata": {},
   "outputs": [
    {
     "data": {
      "text/html": [
       "<div>\n",
       "<style scoped>\n",
       "    .dataframe tbody tr th:only-of-type {\n",
       "        vertical-align: middle;\n",
       "    }\n",
       "\n",
       "    .dataframe tbody tr th {\n",
       "        vertical-align: top;\n",
       "    }\n",
       "\n",
       "    .dataframe thead th {\n",
       "        text-align: right;\n",
       "    }\n",
       "</style>\n",
       "<table border=\"1\" class=\"dataframe\">\n",
       "  <thead>\n",
       "    <tr style=\"text-align: right;\">\n",
       "      <th></th>\n",
       "      <th>Tweet</th>\n",
       "      <th>Class</th>\n",
       "    </tr>\n",
       "  </thead>\n",
       "  <tbody>\n",
       "    <tr>\n",
       "      <th>count</th>\n",
       "      <td>5846</td>\n",
       "      <td>5846</td>\n",
       "    </tr>\n",
       "    <tr>\n",
       "      <th>unique</th>\n",
       "      <td>5754</td>\n",
       "      <td>3</td>\n",
       "    </tr>\n",
       "    <tr>\n",
       "      <th>top</th>\n",
       "      <td>نجحنا بقوتنا شكراً فخامة الرئيس ومعالي الوزير ...</td>\n",
       "      <td>normal</td>\n",
       "    </tr>\n",
       "    <tr>\n",
       "      <th>freq</th>\n",
       "      <td>3</td>\n",
       "      <td>3650</td>\n",
       "    </tr>\n",
       "  </tbody>\n",
       "</table>\n",
       "</div>"
      ],
      "text/plain": [
       "                                                    Tweet   Class\n",
       "count                                                5846    5846\n",
       "unique                                               5754       3\n",
       "top     نجحنا بقوتنا شكراً فخامة الرئيس ومعالي الوزير ...  normal\n",
       "freq                                                    3    3650"
      ]
     },
     "execution_count": 60,
     "metadata": {},
     "output_type": "execute_result"
    }
   ],
   "source": [
    "# describe the data\n",
    "\n",
    "df.describe()"
   ]
  },
  {
   "cell_type": "code",
   "execution_count": 61,
   "id": "346b5cf8",
   "metadata": {},
   "outputs": [
    {
     "data": {
      "text/plain": [
       "Tweet    0\n",
       "Class    0\n",
       "dtype: int64"
      ]
     },
     "execution_count": 61,
     "metadata": {},
     "output_type": "execute_result"
    }
   ],
   "source": [
    "# check null values\n",
    "\n",
    "df.isnull().sum()"
   ]
  },
  {
   "cell_type": "code",
   "execution_count": 62,
   "id": "f1a57458",
   "metadata": {},
   "outputs": [
    {
     "data": {
      "text/plain": [
       "88"
      ]
     },
     "execution_count": 62,
     "metadata": {},
     "output_type": "execute_result"
    }
   ],
   "source": [
    "# check duplicate reviews\n",
    "\n",
    "df.duplicated().sum()"
   ]
  },
  {
   "cell_type": "code",
   "execution_count": 63,
   "id": "6d4492e9",
   "metadata": {},
   "outputs": [
    {
     "data": {
      "text/html": [
       "<div>\n",
       "<style scoped>\n",
       "    .dataframe tbody tr th:only-of-type {\n",
       "        vertical-align: middle;\n",
       "    }\n",
       "\n",
       "    .dataframe tbody tr th {\n",
       "        vertical-align: top;\n",
       "    }\n",
       "\n",
       "    .dataframe thead th {\n",
       "        text-align: right;\n",
       "    }\n",
       "</style>\n",
       "<table border=\"1\" class=\"dataframe\">\n",
       "  <thead>\n",
       "    <tr style=\"text-align: right;\">\n",
       "      <th></th>\n",
       "      <th>Tweet</th>\n",
       "      <th>Class</th>\n",
       "    </tr>\n",
       "  </thead>\n",
       "  <tbody>\n",
       "    <tr>\n",
       "      <th>292</th>\n",
       "      <td>آخر فضيحة</td>\n",
       "      <td>normal</td>\n",
       "    </tr>\n",
       "    <tr>\n",
       "      <th>5214</th>\n",
       "      <td>آخر فضيحة</td>\n",
       "      <td>normal</td>\n",
       "    </tr>\n",
       "    <tr>\n",
       "      <th>3217</th>\n",
       "      <td>أصحاب الرؤوس الفارغة ما عندا شي غير تهاجم الوز...</td>\n",
       "      <td>normal</td>\n",
       "    </tr>\n",
       "    <tr>\n",
       "      <th>4901</th>\n",
       "      <td>أصحاب الرؤوس الفارغة ما عندا شي غير تهاجم الوز...</td>\n",
       "      <td>normal</td>\n",
       "    </tr>\n",
       "    <tr>\n",
       "      <th>1763</th>\n",
       "      <td>أمير قطر يأتي بأوامر أمريكية لمهمة محددة وهي ت...</td>\n",
       "      <td>normal</td>\n",
       "    </tr>\n",
       "    <tr>\n",
       "      <th>...</th>\n",
       "      <td>...</td>\n",
       "      <td>...</td>\n",
       "    </tr>\n",
       "    <tr>\n",
       "      <th>5550</th>\n",
       "      <td>يجب أن يعلم الجميع أن الشجرة المثمرة ترشق دائم...</td>\n",
       "      <td>normal</td>\n",
       "    </tr>\n",
       "    <tr>\n",
       "      <th>1185</th>\n",
       "      <td>يقصف عمرك ما انتنك</td>\n",
       "      <td>abusive</td>\n",
       "    </tr>\n",
       "    <tr>\n",
       "      <th>1867</th>\n",
       "      <td>يقصف عمرك ما انتنك</td>\n",
       "      <td>abusive</td>\n",
       "    </tr>\n",
       "    <tr>\n",
       "      <th>4867</th>\n",
       "      <td>يلي بدو يخوّن جبران باسيل بدو يسمع الجواب</td>\n",
       "      <td>normal</td>\n",
       "    </tr>\n",
       "    <tr>\n",
       "      <th>823</th>\n",
       "      <td>يلي بدو يخوّن جبران باسيل بدو يسمع الجواب</td>\n",
       "      <td>normal</td>\n",
       "    </tr>\n",
       "  </tbody>\n",
       "</table>\n",
       "<p>182 rows × 2 columns</p>\n",
       "</div>"
      ],
      "text/plain": [
       "                                                  Tweet    Class\n",
       "292                                           آخر فضيحة   normal\n",
       "5214                                          آخر فضيحة   normal\n",
       "3217  أصحاب الرؤوس الفارغة ما عندا شي غير تهاجم الوز...   normal\n",
       "4901  أصحاب الرؤوس الفارغة ما عندا شي غير تهاجم الوز...   normal\n",
       "1763  أمير قطر يأتي بأوامر أمريكية لمهمة محددة وهي ت...   normal\n",
       "...                                                 ...      ...\n",
       "5550  يجب أن يعلم الجميع أن الشجرة المثمرة ترشق دائم...   normal\n",
       "1185                                 يقصف عمرك ما انتنك  abusive\n",
       "1867                                 يقصف عمرك ما انتنك  abusive\n",
       "4867          يلي بدو يخوّن جبران باسيل بدو يسمع الجواب   normal\n",
       "823           يلي بدو يخوّن جبران باسيل بدو يسمع الجواب   normal\n",
       "\n",
       "[182 rows x 2 columns]"
      ]
     },
     "execution_count": 63,
     "metadata": {},
     "output_type": "execute_result"
    }
   ],
   "source": [
    "# Print duplicates to see what's happening and to check if they have the same sentiment\n",
    "\n",
    "# Identify duplicates in the 'Tweet' column\n",
    "duplicated_tweets = df[\"Tweet\"].duplicated(keep=False)  # `keep=False` marks all duplicates as True\n",
    "\n",
    "# Filter the DataFrame to keep only duplicates\n",
    "duplicates_df = df[duplicated_tweets]\n",
    "\n",
    "# Sort the DataFrame based on the 'Tweet' column to group duplicates together for easier inspection\n",
    "duplicates_df_sorted = duplicates_df.sort_values(by=\"Tweet\")\n",
    "\n",
    "duplicates_df_sorted"
   ]
  },
  {
   "cell_type": "code",
   "execution_count": 64,
   "id": "811a7f08",
   "metadata": {},
   "outputs": [
    {
     "name": "stdout",
     "output_type": "stream",
     "text": [
      "Cleaned DataFrame shape: (5754, 2)\n"
     ]
    }
   ],
   "source": [
    "# Remove duplicated tweets based on the 'Tweet' column, keeping the first occurrence\n",
    "df = df.drop_duplicates(subset='Tweet', keep='first')\n",
    "\n",
    "# Print the shape of the cleaned DataFrames to see the number of rows removed\n",
    "print(f\"Cleaned DataFrame shape: {df.shape}\")"
   ]
  },
  {
   "cell_type": "code",
   "execution_count": 65,
   "id": "30dd0e8b",
   "metadata": {},
   "outputs": [
    {
     "name": "stdout",
     "output_type": "stream",
     "text": [
      "Counts of unique sentiment values:\n",
      "Class\n",
      "normal     3576\n",
      "abusive    1713\n",
      "hate        465\n",
      "Name: count, dtype: int64\n",
      "\n",
      "Percentages of unique sentiment values:\n",
      "Class\n",
      "normal     62.148071\n",
      "abusive    29.770594\n",
      "hate        8.081335\n",
      "Name: proportion, dtype: float64\n"
     ]
    }
   ],
   "source": [
    "# Print the unique values and their counts for the 'Class' column \n",
    "\n",
    "# Get counts and percentages of unique values in the 'Class' column\n",
    "sentiment_counts = df['Class'].value_counts()\n",
    "sentiment_percentages = df['Class'].value_counts(normalize=True) * 100\n",
    "\n",
    "# Print the counts and percentages\n",
    "print(\"Counts of unique sentiment values:\")\n",
    "print(sentiment_counts)\n",
    "print(\"\\nPercentages of unique sentiment values:\")\n",
    "print(sentiment_percentages)"
   ]
  },
  {
   "cell_type": "code",
   "execution_count": 66,
   "id": "d8eee62c",
   "metadata": {},
   "outputs": [
    {
     "name": "stderr",
     "output_type": "stream",
     "text": [
      "/var/folders/1d/sjc73vvj2l702mjqyjpnncjw0000gn/T/ipykernel_39364/83635518.py:4: SettingWithCopyWarning: \n",
      "A value is trying to be set on a copy of a slice from a DataFrame.\n",
      "Try using .loc[row_indexer,col_indexer] = value instead\n",
      "\n",
      "See the caveats in the documentation: https://pandas.pydata.org/pandas-docs/stable/user_guide/indexing.html#returning-a-view-versus-a-copy\n",
      "  df['Tweet_Length'] = df['Tweet'].apply(len)\n"
     ]
    }
   ],
   "source": [
    "# Check for outliers in tweet length\n",
    "\n",
    "# Calculate the length of each tweet\n",
    "df['Tweet_Length'] = df['Tweet'].apply(len)"
   ]
  },
  {
   "cell_type": "code",
   "execution_count": 67,
   "id": "da0a9d54",
   "metadata": {},
   "outputs": [
    {
     "data": {
      "text/plain": [
       "count    5754.000000\n",
       "mean       63.683351\n",
       "std        37.828235\n",
       "min         3.000000\n",
       "25%        32.000000\n",
       "50%        57.000000\n",
       "75%        93.000000\n",
       "max       277.000000\n",
       "Name: Tweet_Length, dtype: float64"
      ]
     },
     "execution_count": 67,
     "metadata": {},
     "output_type": "execute_result"
    }
   ],
   "source": [
    "# Get descriptive analysis \n",
    "\n",
    "df['Tweet_Length'].describe()"
   ]
  },
  {
   "cell_type": "code",
   "execution_count": 68,
   "id": "8849d52b",
   "metadata": {
    "scrolled": false
   },
   "outputs": [
    {
     "data": {
      "image/png": "[encoded data removed]",
      "text/plain": [
       "<Figure size 640x480 with 1 Axes>"
      ]
     },
     "metadata": {},
     "output_type": "display_data"
    }
   ],
   "source": [
    "# Plot Tweet Lengths\n",
    "\n",
    "import matplotlib.pyplot as plt\n",
    "import seaborn as sns\n",
    "\n",
    "sns.boxplot(x=df['Tweet_Length'])\n",
    "plt.title('Box Plot of Tweet Lengths')\n",
    "plt.xlabel('Tweet Length')\n",
    "plt.show()"
   ]
  },
  {
   "cell_type": "code",
   "execution_count": 69,
   "id": "e49882d6",
   "metadata": {},
   "outputs": [
    {
     "name": "stdout",
     "output_type": "stream",
     "text": [
      "Number of outliers: 49\n"
     ]
    }
   ],
   "source": [
    "# IQR method for identifying outliers\n",
    "\n",
    "# Calculate the first and third quartile\n",
    "Q1 = df['Tweet_Length'].quantile(0.25)\n",
    "Q3 = df['Tweet_Length'].quantile(0.75)\n",
    "\n",
    "# Calculate the Interquartile Range (IQR)\n",
    "IQR = Q3 - Q1\n",
    "\n",
    "# Define the bounds for non-outliers\n",
    "lower_bound = Q1 - 1.5 * IQR\n",
    "upper_bound = Q3 + 1.5 * IQR\n",
    "\n",
    "outliers = df[(df['Tweet_Length'] < lower_bound) | (df['Tweet_Length'] > upper_bound)]\n",
    "print(f\"Number of outliers: {len(outliers)}\")"
   ]
  },
  {
   "cell_type": "code",
   "execution_count": 70,
   "id": "c441e977",
   "metadata": {},
   "outputs": [
    {
     "name": "stdout",
     "output_type": "stream",
     "text": [
      "Cleaned DataFrame shape: (5705, 3)\n"
     ]
    }
   ],
   "source": [
    "# Remove outliers \n",
    "\n",
    "# Filter the DataFrame to remove outliers\n",
    "df = df[(df['Tweet_Length'] >= lower_bound) & (df['Tweet_Length'] <= upper_bound)]\n",
    "\n",
    "# Print the shape of the cleaned DataFrames to see the number of rows removed\n",
    "print(f\"Cleaned DataFrame shape: {df.shape}\")"
   ]
  },
  {
   "cell_type": "markdown",
   "id": "b48a497b",
   "metadata": {},
   "source": [
    "In the preprocessing stage of our sentiment analysis task, we have decided to modify the classification structure of our dataset. Originally, the dataset contained three labels for text classification: 'Hate', 'Abusive', and 'Normal'. To enhance the effectiveness and applicability of our analysis, we are combining the 'Hate' and 'Abusive' labels into a single 'Hate' label, resulting in a binary classification system. This decision is grounded in several key considerations outlined below.\n",
    "\n",
    "### Simplification of the Classification Task\n",
    "By reducing the number of classes from three to two, we simplify the classification task. This simplification can lead to more robust and generalized models, as the model now needs to distinguish between only two categories rather than three. This can be particularly beneficial if the dataset is imbalanced or if there is a significant overlap between the 'Abusive' and 'Hate' categories, which can make it challenging for the model to differentiate between them accurately.\n",
    "\n",
    "### Conceptual Overlap\n",
    "'Abusive' and 'Hate' tweets, while distinct in their definitions, share considerable conceptual overlap. Both involve offensive, aggressive, insulting, or profanity content, with the primary difference being that 'Hate' tweets are directed at specific individuals or groups based on identity characteristics. By combining these categories, we acknowledge this overlap and focus on the shared characteristics of these types of speech, namely their potential to cause harm or perpetuate discrimination and prejudice.\n",
    "\n",
    "### Focus on Severity\n",
    "Combining 'Abusive' and 'Hate' tweets into a single 'Hate' category allows the research to focus on the most severe forms of negative online behavior. Hate speech, which includes abusive language and targets individuals or groups based on identity, is often considered more harmful than general abusive speech due to its potential to incite violence, discrimination, and societal division. By focusing on this category, our research aligns with broader societal concerns regarding online behavior and its impact.\n",
    "\n",
    "### Practical Considerations\n",
    "From a practical standpoint, binary classification models are often easier to implement, interpret, and explain. This can be particularly advantageous when communicating findings to a non-technical audience, such as policymakers or social media platform administrators, who might be interested in applying your research to develop or refine content moderation policies.\n",
    "\n",
    "### Alignment with Research Goals\n",
    "By focusing on the most severe and impactful forms of negative speech, our research can contribute more directly to efforts aimed at creating safer and more inclusive online environments."
   ]
  },
  {
   "cell_type": "code",
   "execution_count": 71,
   "id": "27e9f4b9",
   "metadata": {
    "scrolled": false
   },
   "outputs": [
    {
     "data": {
      "text/html": [
       "<div>\n",
       "<style scoped>\n",
       "    .dataframe tbody tr th:only-of-type {\n",
       "        vertical-align: middle;\n",
       "    }\n",
       "\n",
       "    .dataframe tbody tr th {\n",
       "        vertical-align: top;\n",
       "    }\n",
       "\n",
       "    .dataframe thead th {\n",
       "        text-align: right;\n",
       "    }\n",
       "</style>\n",
       "<table border=\"1\" class=\"dataframe\">\n",
       "  <thead>\n",
       "    <tr style=\"text-align: right;\">\n",
       "      <th></th>\n",
       "      <th>Tweet</th>\n",
       "      <th>Class</th>\n",
       "      <th>Tweet_Length</th>\n",
       "    </tr>\n",
       "  </thead>\n",
       "  <tbody>\n",
       "    <tr>\n",
       "      <th>0</th>\n",
       "      <td>الوزير جبران باسيل تاج راسك يا جربان ممنوع بعد...</td>\n",
       "      <td>hate</td>\n",
       "      <td>96</td>\n",
       "    </tr>\n",
       "    <tr>\n",
       "      <th>1</th>\n",
       "      <td>صديقي انت ابن جامعه اللعبه اكبر من داعش اللعبه...</td>\n",
       "      <td>normal</td>\n",
       "      <td>87</td>\n",
       "    </tr>\n",
       "    <tr>\n",
       "      <th>2</th>\n",
       "      <td>و مصلحة لبنان تبدأ باستخراج النفط و الغاز لوقف...</td>\n",
       "      <td>normal</td>\n",
       "      <td>104</td>\n",
       "    </tr>\n",
       "    <tr>\n",
       "      <th>3</th>\n",
       "      <td>وليد جنبلاط كاتب الحكمة يا قذر</td>\n",
       "      <td>hate</td>\n",
       "      <td>31</td>\n",
       "    </tr>\n",
       "    <tr>\n",
       "      <th>4</th>\n",
       "      <td>شو بتلبقلك كلمة خنزير بتجي مفصله على قياسك وشك...</td>\n",
       "      <td>hate</td>\n",
       "      <td>52</td>\n",
       "    </tr>\n",
       "    <tr>\n",
       "      <th>...</th>\n",
       "      <td>...</td>\n",
       "      <td>...</td>\n",
       "      <td>...</td>\n",
       "    </tr>\n",
       "    <tr>\n",
       "      <th>5840</th>\n",
       "      <td>اسم الله عليك فرجيني عرض كتافك يا فهيم على فكر...</td>\n",
       "      <td>normal</td>\n",
       "      <td>85</td>\n",
       "    </tr>\n",
       "    <tr>\n",
       "      <th>5841</th>\n",
       "      <td>أمير المليشيا مش خائن</td>\n",
       "      <td>normal</td>\n",
       "      <td>21</td>\n",
       "    </tr>\n",
       "    <tr>\n",
       "      <th>5842</th>\n",
       "      <td>صدقت يناسبك جدا جدا</td>\n",
       "      <td>normal</td>\n",
       "      <td>20</td>\n",
       "    </tr>\n",
       "    <tr>\n",
       "      <th>5843</th>\n",
       "      <td>لبخليني حب باسيل شغلتين</td>\n",
       "      <td>normal</td>\n",
       "      <td>23</td>\n",
       "    </tr>\n",
       "    <tr>\n",
       "      <th>5844</th>\n",
       "      <td>ليش تيوس الإمارت والسعودية مع السوريين واليمني...</td>\n",
       "      <td>hate</td>\n",
       "      <td>75</td>\n",
       "    </tr>\n",
       "  </tbody>\n",
       "</table>\n",
       "<p>5705 rows × 3 columns</p>\n",
       "</div>"
      ],
      "text/plain": [
       "                                                  Tweet   Class  Tweet_Length\n",
       "0     الوزير جبران باسيل تاج راسك يا جربان ممنوع بعد...    hate            96\n",
       "1     صديقي انت ابن جامعه اللعبه اكبر من داعش اللعبه...  normal            87\n",
       "2     و مصلحة لبنان تبدأ باستخراج النفط و الغاز لوقف...  normal           104\n",
       "3                       وليد جنبلاط كاتب الحكمة يا قذر     hate            31\n",
       "4     شو بتلبقلك كلمة خنزير بتجي مفصله على قياسك وشك...    hate            52\n",
       "...                                                 ...     ...           ...\n",
       "5840  اسم الله عليك فرجيني عرض كتافك يا فهيم على فكر...  normal            85\n",
       "5841                              أمير المليشيا مش خائن  normal            21\n",
       "5842                               صدقت يناسبك جدا جدا   normal            20\n",
       "5843                            لبخليني حب باسيل شغلتين  normal            23\n",
       "5844  ليش تيوس الإمارت والسعودية مع السوريين واليمني...    hate            75\n",
       "\n",
       "[5705 rows x 3 columns]"
      ]
     },
     "execution_count": 71,
     "metadata": {},
     "output_type": "execute_result"
    }
   ],
   "source": [
    "# Replacing 'Abusive' with 'Hate' in the 'Class' column\n",
    "df['Class'] = df['Class'].replace({'abusive': 'hate'})\n",
    "\n",
    "# Display the updated DataFrame\n",
    "df"
   ]
  },
  {
   "cell_type": "code",
   "execution_count": 72,
   "id": "14700789",
   "metadata": {},
   "outputs": [
    {
     "name": "stdout",
     "output_type": "stream",
     "text": [
      "Percentages of unique sentiment values:\n",
      "Class\n",
      "normal    62.383874\n",
      "hate      37.616126\n",
      "Name: proportion, dtype: float64\n"
     ]
    }
   ],
   "source": [
    "# Print the unique values and their counts for the 'Class' column \n",
    "\n",
    "# Get percentages of unique values in the 'Class' column\n",
    "sentiment_counts = df['Class'].value_counts()\n",
    "sentiment_percentages = df['Class'].value_counts(normalize=True) * 100\n",
    "\n",
    "print(\"Percentages of unique sentiment values:\")\n",
    "print(sentiment_percentages)"
   ]
  },
  {
   "cell_type": "markdown",
   "id": "1985734b",
   "metadata": {},
   "source": [
    "#### Note on Data Balancing Considerations\n",
    "As observed in the preliminary data analysis, the distribution of unique sentiment values in our dataset shows a notable imbalance:\n",
    "\n",
    "* Normal: 62.38%\n",
    "\n",
    "* Hate: 37.62%\n",
    "\n",
    "\n",
    "This skew in the dataset may potentially introduce bias into our model, affecting its ability to generalize and accurately classify unseen data. In the interest of prioritizing model development and iteration speed, we will proceed without implementing data balancing techniques in the initial phases. This approach will allow us to establish a performance baseline for our model.\n",
    "\n",
    "However, it is important to acknowledge that the imbalance in our dataset might lead to suboptimal model performance, particularly in its ability to accurately identify instances of the minority class ('Hate' sentiments in this case). Should the model exhibit poor performance, particularly for the minority class, revisiting and applying data balancing techniques will be imperative.\n",
    "\n",
    "Potential data balancing strategies to consider include:\n",
    "\n",
    "- Oversampling the minority class\n",
    "- Undersampling the majority class\n",
    "- Utilizing synthetic data generation techniques (e.g., SMOTE)\n",
    "- Applying cost-sensitive learning or adjusting class weights"
   ]
  },
  {
   "cell_type": "markdown",
   "id": "39e1c135",
   "metadata": {},
   "source": [
    "## Text Preprocessing"
   ]
  },
  {
   "cell_type": "markdown",
   "id": "7fdc82f4",
   "metadata": {},
   "source": [
    "### Overview\n",
    "The preprocessing pipeline includes the following steps:\n",
    "\n",
    "1. **Strip Tashkeel**\n",
    "2. **Strip Tatweel**\n",
    "3. **Remove Punctuations**\n",
    "4. **Normalize Arabic**\n",
    "5. **Remove Emoji**\n",
    "6. **Remove Numbers**\n",
    "7. **Remove English Letters**\n",
    "\n",
    "Each step is designed to address specific aspects of the text data, ensuring that the final output is clean and standardized for further processing or analysis.\n",
    "\n",
    "### 1. Strip Tashkeel\n",
    "- **Description**: Removes Arabic diacritical marks (Tashkeel) from the text. Tashkeel includes marks that denote vowel sounds, which are not usually needed for text analysis tasks.\n",
    "- **Function**: `strip_tashkeel(text: str) -> str`\n",
    "- **Example**:\n",
    "  - Input: \"الْعَرَبِيَّةُ\"\n",
    "  - Output: \"العربية\"\n",
    "\n",
    "### 2. Strip Tatweel\n",
    "- **Description**: Eliminates the Tatweel (Kashida) character from Arabic text. The Tatweel is a formatting character that extends the connection between letters, commonly used for aesthetic purposes.\n",
    "- **Function**: `strip_tatweel(text: str) -> str`\n",
    "- **Example**:\n",
    "  - Input: \"العــــربية\"\n",
    "  - Output: \"العربية\"\n",
    "\n",
    "### 3. Remove Punctuations\n",
    "- **Description**: Strips all punctuation marks from the text, including both standard English and Arabic punctuation characters. This step simplifies text analysis by focusing on textual content without punctuation.\n",
    "- **Function**: `remove_punctuations(text: str) -> str`\n",
    "- **Example**:\n",
    "  - Input: \"مرحبا، كيف حالك؟\"\n",
    "  - Output: \"مرحبا كيف حالك\"\n",
    "\n",
    "### 4. Normalize Arabic\n",
    "- **Description**: Applies normalization rules specific to Arabic text, such as replacing Alef Maksura with Ya and Teh Marbuta with Heh. This step standardizes variations of similar characters.\n",
    "- **Function**: `normalize_arabic(text: str) -> str`\n",
    "- **Example**:\n",
    "  - Input: \"الأرض\"\n",
    "  - Output: \"الارض\"\n",
    "\n",
    "### 5. Remove Emoji\n",
    "- **Description**: Filters out emoji characters from the text. Since emojis can introduce noise into text analysis, removing them can help in focusing on the textual data.\n",
    "- **Function**: `remove_emoji(text: str) -> str`\n",
    "- **Example**:\n",
    "  - Input: \"أنا سعيد 😊\"\n",
    "  - Output: \"أنا سعيد \"\n",
    "\n",
    "### 6. Remove Numbers\n",
    "- **Description**: Deletes both Arabic and English numeric characters from the text. This is particularly useful in analyses where numeric data is irrelevant.\n",
    "- **Function**: `remove_nums(text: str) -> str`\n",
    "- **Example**:\n",
    "  - Input: \"لدي ١٠ تفاحات\"\n",
    "  - Output: \"لدي تفاحات\"\n",
    "\n",
    "### 7. Remove English Letters\n",
    "- **Description**: Strips out all English alphabetic characters. This step is useful in processing texts where only non-English characters are of interest.\n",
    "- **Function**: `remove_english_letters(text: str) -> str`\n",
    "- **Example**:\n",
    "  - Input: \"اللغة العربية Arabic Language\"\n",
    "  - Output: \"اللغة العربية  \"\n",
    "\n",
    "### Implementation Notes\n",
    "Each preprocessing function is designed to be applied independently, allowing for flexible configuration of the preprocessing pipeline based on specific requirements. The functions can be composed in sequence to prepare texts for various NLP tasks such as tokenization, sentiment analysis, or topic modeling.\n",
    "\n",
    "The preprocessing steps detailed above are essential for cleaning and standardizing text data, particularly when dealing with multilingual datasets. By applying these steps, the text data is made more uniform, thereby improving the performance of downstream NLP tasks.\n"
   ]
  },
  {
   "cell_type": "code",
   "execution_count": 73,
   "id": "9346ab16",
   "metadata": {
    "scrolled": true
   },
   "outputs": [
    {
     "name": "stderr",
     "output_type": "stream",
     "text": [
      "huggingface/tokenizers: The current process just got forked, after parallelism has already been used. Disabling parallelism to avoid deadlocks...\n",
      "To disable this warning, you can either:\n",
      "\t- Avoid using `tokenizers` before the fork if possible\n",
      "\t- Explicitly set the environment variable TOKENIZERS_PARALLELISM=(true | false)\n"
     ]
    },
    {
     "name": "stdout",
     "output_type": "stream",
     "text": [
      "Requirement already satisfied: pyarabic in /Users/ahmed/anaconda3/lib/python3.11/site-packages (0.6.15)\n",
      "Requirement already satisfied: six>=1.14.0 in /Users/ahmed/anaconda3/lib/python3.11/site-packages (from pyarabic) (1.16.0)\n",
      "Note: you may need to restart the kernel to use updated packages.\n"
     ]
    }
   ],
   "source": [
    "pip install pyarabic"
   ]
  },
  {
   "cell_type": "code",
   "execution_count": 74,
   "id": "d1d5d34d",
   "metadata": {},
   "outputs": [],
   "source": [
    "import string \n",
    "\n",
    "def remove_punctuations(text: str) -> str:\n",
    "    # This function removes Arabic & English punctuations from a string \n",
    "    arabic_punctuations = '''`÷×؛<>_()*&^%][ـ،/:\"؟.,'{}~¦+|!”…“–ـ'''\n",
    "    english_punctuations = string.punctuation\n",
    "    punctuations_list = arabic_punctuations + english_punctuations\n",
    "    translator = str.maketrans('', '', punctuations_list)\n",
    "    return text.translate(translator)"
   ]
  },
  {
   "cell_type": "code",
   "execution_count": 75,
   "id": "0af6c386",
   "metadata": {},
   "outputs": [],
   "source": [
    "def normalize_arabic(text: str) -> str:\n",
    "    # This function normalizes Arabic text by standardizing variations of Alif, Ya, Hamza, Taa Marbuta, and Kaf characters\n",
    "    text = re.sub(\"[إأآا]\", \"ا\", text)\n",
    "    text = re.sub(\"ى\", \"ي\", text)\n",
    "    text = re.sub(\"ؤ\", \"ء\", text)\n",
    "    text = re.sub(\"ئ\", \"ء\", text)\n",
    "    text = re.sub(\"ة\", \"ه\", text)\n",
    "    text = re.sub(\"گ\", \"ك\", text)\n",
    "    return text"
   ]
  },
  {
   "cell_type": "code",
   "execution_count": 76,
   "id": "424e7620",
   "metadata": {},
   "outputs": [],
   "source": [
    "def remove_emoji(text: str) -> str:\n",
    "    \"This function removes emojis from a string\"\n",
    "    emoji_pattern = re.compile(\"[\"\n",
    "                                   u\"\\U0001F600-\\U0001F64F\"  # emoticons\n",
    "                                   u\"\\U0001F300-\\U0001F5FF\"  # symbols & pictographs\n",
    "                                   u\"\\U0001F680-\\U0001F6FF\"  # transport & map symbols\n",
    "                                   u\"\\U0001F1E0-\\U0001F1FF\"  # flags (iOS)\n",
    "                                   u\"\\U00002702-\\U000027B0\"\n",
    "                                   u\"\\U000024C2-\\U0001F251\"\n",
    "                                   \"]+\", flags=re.UNICODE)\n",
    "    text = emoji_pattern.sub(r'', text)\n",
    "    return text"
   ]
  },
  {
   "cell_type": "code",
   "execution_count": 77,
   "id": "71da5953",
   "metadata": {},
   "outputs": [],
   "source": [
    "import re\n",
    "\n",
    "def remove_nums(text: str) -> str:\n",
    "    \"This function removes Arabic and English numbers from a string\"\n",
    "    text = re.sub('[\\u0661-\\u0669]+', '', text)          # remove Arabic numbers\n",
    "    text = ''.join(i for i in text if not i.isdigit())   # remove English numbers \n",
    "    return text "
   ]
  },
  {
   "cell_type": "code",
   "execution_count": 78,
   "id": "69df1696",
   "metadata": {},
   "outputs": [],
   "source": [
    "def remove_english_letters(text: str) -> str:\n",
    "    # This function replace any English letters with an empty string\n",
    "    return re.sub('[a-zA-Z]', '', text)"
   ]
  },
  {
   "cell_type": "code",
   "execution_count": 79,
   "id": "d8231f24",
   "metadata": {},
   "outputs": [
    {
     "name": "stdout",
     "output_type": "stream",
     "text": [
      "Number of tweets affected by strip_tashkeel: 495\n",
      "Number of tweets affected by strip_tatweel: 8\n",
      "Number of tweets affected by remove_punctuations: 809\n",
      "Number of tweets affected by normalize_arabic: 4049\n",
      "Number of tweets affected by remove_emoji: 66\n",
      "Number of tweets affected by remove_nums: 1\n",
      "Number of tweets affected by remove_english_letters: 0\n"
     ]
    }
   ],
   "source": [
    "from typing import Callable, Dict, List\n",
    "from pyarabic.araby import strip_tashkeel, strip_tatweel\n",
    "\n",
    "def count_preprocessed_tweets(df: pd.DataFrame, preprocessing_functions: List[Callable[[str], str]]) -> Dict[str, int]:\n",
    "    # This function counts the number of tweets in a DataFrame that are affected by each preprocessing function\n",
    "    # A tweet is considered 'affected' by a preprocessing function if the function alters the tweet's content\n",
    "    \n",
    "    counts = {}  # Dictionary to store counts for each preprocessing function\n",
    "\n",
    "    for function in preprocessing_functions:\n",
    "        count = 0\n",
    "        for text in df['Tweet']:\n",
    "            if text != function(text):\n",
    "                count += 1\n",
    "        counts[function.__name__] = count  # Store count with function's name as key\n",
    "\n",
    "    return counts\n",
    "\n",
    "\n",
    "# List of preprocessing functions to apply\n",
    "preprocessing_functions = [strip_tashkeel, strip_tatweel, remove_punctuations, normalize_arabic, remove_emoji, remove_nums, remove_english_letters]\n",
    "\n",
    "# Apply the function to the dataframe\n",
    "counts = count_preprocessed_tweets(df, preprocessing_functions)\n",
    "\n",
    "# Print the results\n",
    "for function_name, count in counts.items():\n",
    "    print(f\"Number of tweets affected by {function_name}: {count}\")\n"
   ]
  },
  {
   "cell_type": "code",
   "execution_count": 80,
   "id": "dd08cb3f",
   "metadata": {},
   "outputs": [],
   "source": [
    "def preprocess_text(text: str) -> str:\n",
    "    # This function applies a series of text preprocessing steps to the input text\n",
    "    text = strip_tashkeel(text)\n",
    "    text = strip_tatweel(text)\n",
    "    text = remove_punctuations(text)\n",
    "    text = normalize_arabic(text)\n",
    "    text = remove_emoji(text)\n",
    "    text = remove_nums(text)\n",
    "    text = remove_english_letters(text)\n",
    "    return text "
   ]
  },
  {
   "cell_type": "code",
   "execution_count": 81,
   "id": "7df2d92d",
   "metadata": {},
   "outputs": [],
   "source": [
    "# Apply the preprocess_text function to each tweet in the 'Tweet' column\n",
    "\n",
    "df['Tweet'] = df['Tweet'].apply(preprocess_text)"
   ]
  },
  {
   "cell_type": "code",
   "execution_count": 82,
   "id": "174582e5",
   "metadata": {},
   "outputs": [],
   "source": [
    "# Apply tokenization to each tweet in the 'Tweet' column \n",
    "\n",
    "from pyarabic import araby\n",
    "\n",
    "df['Tokenized_Tweet'] = df['Tweet'].apply(araby.tokenize)"
   ]
  },
  {
   "cell_type": "code",
   "execution_count": 83,
   "id": "5e005de3",
   "metadata": {},
   "outputs": [
    {
     "name": "stdout",
     "output_type": "stream",
     "text": [
      "الوزير vs وزر\n",
      "جبران vs جبر\n",
      "باسيل vs اسل\n",
      "تاج vs تاج\n",
      "راسك vs رسك\n",
      "يا vs يا\n",
      "جربان vs جرب\n",
      "ممنوع vs منع\n",
      "بعد vs بعد\n",
      "اليوم vs اليوم\n",
      "المساس vs ساس\n",
      "بمقدساتنا vs قدس\n",
      "من vs من\n",
      "ربنا vs ربن\n",
      "والهنا vs هنا\n",
      "يسوع vs يسع\n",
      "المسيح vs سيح\n",
      "صديقي vs صدق\n",
      "انت vs انت\n",
      "ابن vs ابن\n",
      "جامعه vs جمع\n",
      "اللعبه vs لعب\n",
      "اكبر vs كبر\n",
      "من vs من\n",
      "داعش vs دعش\n",
      "اللعبه vs لعب\n",
      "سنيه vs سنه\n",
      "شيعيه vs شيع\n",
      "واعاده vs اعد\n",
      "توزيع vs وزع\n",
      "ديموغرافي vs ديموغرافي\n",
      "بسوريا vs بسر\n",
      "و vs و\n",
      "مصلحه vs صلح\n",
      "لبنان vs لبن\n",
      "تبدا vs تبد\n",
      "باستخراج vs باستخراج\n",
      "النفط vs نفط\n",
      "و vs و\n",
      "الغاز vs غاز\n",
      "لوقف vs وقف\n",
      "الشحاده vs شحد\n",
      "و vs و\n",
      "هذه vs هذه\n",
      "نقطه vs نقط\n",
      "ضعف vs ضعف\n",
      "لبنان vs لبن\n",
      "ليبقي vs يبق\n",
      "رهن vs رهن\n",
      "سياسات vs سيس\n"
     ]
    },
    {
     "name": "stderr",
     "output_type": "stream",
     "text": [
      "[nltk_data] Error loading isri: Package 'isri' not found in index\n"
     ]
    }
   ],
   "source": [
    "# Explore applying stemming to each word in the 'Tokenized_Tweet' column (check first 50 words)\n",
    "\n",
    "import nltk\n",
    "nltk.download('isri')\n",
    "from nltk.stem.isri import ISRIStemmer\n",
    "\n",
    "stemmer = ISRIStemmer()\n",
    "\n",
    "counter = 0  # Initialize a counter\n",
    "\n",
    "for token in df['Tokenized_Tweet']:\n",
    "    for word in token:\n",
    "        if counter < 50:  # Check if counter is less than 50\n",
    "            print(word, \"vs\", stemmer.stem(word))\n",
    "            counter += 1  # Increment counter\n",
    "        else:\n",
    "            break  # Break out of the loop once 50 words have been processed\n",
    "    if counter >= 50:  # Check if counter has reached 50 to stop processing further rows\n",
    "        break"
   ]
  },
  {
   "cell_type": "markdown",
   "id": "031b863c",
   "metadata": {},
   "source": [
    "#### Note on Stemming and Lemmatization \n",
    "\n",
    "Stemming and lemmatization are key preprocessing steps in sentiment analysis tasks, aimed at reducing words to their base forms. However, their effectiveness varies due to the rich morphology of Arabic.\n",
    "\n",
    "* Stemming: This process trims prefixes and suffixes. While tools like the ISRIStemmer are commonly used, they can overly simplify words, making them vague and potentially distorting the intended sentiment.\n",
    "\n",
    "* Lemmatization: A more sophisticated approach that considers the word's morphological analysis to return its base form. It is more accurate than stemming but requires more computational resources.\n",
    "\n",
    "**Note: The complexity of Levantine Arabic poses challenges to both stemming and lemmatization, necessitating a careful balance between word normalization and the preservation of linguistic nuances.**\n",
    "\n",
    "For this project, we will proceed without applying stemming to avoid oversimplification of words. Should the model exhibit poor performance, revisiting and potentially applying stemming will be considered to enhance linguistic normalization while being mindful of the balance between word simplification and the retention of meaningful content."
   ]
  },
  {
   "cell_type": "markdown",
   "id": "2d824af7",
   "metadata": {},
   "source": [
    "#### Arabic Stop Words Source\n",
    "\n",
    "In the next cell, we utilize an Arabic stop words list obtained from Mohamad Alhakim's \"arabic-stop-words\" GitHub repository. The decision to use this external source was driven by the limited availability of comprehensive Arabic stop words lists in common NLP libraries and tools. The inclusion of this list could significantly improve text preprocessing by effectively filtering out common but low-information words, thereby enhancing the focus on meaningful content analysis.\n",
    "\n",
    "**Source**: [GitHub - arabic-stop-words](https://github.com/mohataher/arabic-stop-words/tree/master)"
   ]
  },
  {
   "cell_type": "code",
   "execution_count": 84,
   "id": "c573305d",
   "metadata": {},
   "outputs": [],
   "source": [
    "# Define an empty list to store the stop words\n",
    "arabic_stop_words = []\n",
    "\n",
    "# Open the text file and read each line in the file\n",
    "with open('arabic_stopwords_list.txt', 'r', encoding='utf-8') as file:\n",
    "    for line in file:\n",
    "        arabic_stop_words.append(preprocess_text(line.strip()))\n",
    "\n",
    "# print(arabic_stop_words)"
   ]
  },
  {
   "cell_type": "markdown",
   "id": "5e6e8a7a",
   "metadata": {},
   "source": [
    "### Bag of Words (BoW) Implementation \n",
    "\n",
    "This section of the project implements the Bag of Words (BoW) model to convert the text data from the `tweets` column of our DataFrame `df` into a numerical format that can be used for further analysis or machine learning tasks. \n",
    "\n",
    "**Overview**:\n",
    "\n",
    "The Bag of Words (BoW) model is a fundamental NLP technique that transforms text into fixed-length vectors by counting how many times each word appears in a document. It disregards the order and context of words, focusing solely on word frequencies or presence within the document set, thus forming a \"bag.\" This numerical representation enables computational and machine learning methods to process and analyze text data efficiently.\n",
    "\n",
    "**Purpose and Usage**:\n",
    "\n",
    "The BoW model is instrumental in transforming textual data into a numerical format, allowing for quantitative analysis and the application of various machine learning algorithms. By converting tweets into vectors of word counts while excluding common stop words, we retain the essential textual information in a form that's amenable to computational methods."
   ]
  },
  {
   "cell_type": "code",
   "execution_count": 85,
   "id": "ff508ef1",
   "metadata": {},
   "outputs": [
    {
     "name": "stderr",
     "output_type": "stream",
     "text": [
      "/Users/ahmed/anaconda3/lib/python3.11/site-packages/sklearn/feature_extraction/text.py:409: UserWarning: Your stop_words may be inconsistent with your preprocessing. Tokenizing the stop words generated tokens ['افعل', 'افعله', 'انفك', 'برح', 'سيما'] not in stop_words.\n",
      "  warnings.warn(\n"
     ]
    }
   ],
   "source": [
    "from sklearn.feature_extraction.text import CountVectorizer\n",
    "\n",
    "# Initialize CountVectorizer with a list of stop words to exclude from analysis\n",
    "vectorizer = CountVectorizer(stop_words=arabic_stop_words)\n",
    "\n",
    "# Extract the 'Tweet' column from the DataFrame to process\n",
    "tweets = df['Tweet']\n",
    "\n",
    "# Fit the vectorizer to the tweets and transform them into a sparse matrix of word counts\n",
    "bow = vectorizer.fit_transform(tweets)\n",
    "\n",
    "# Convert the sparse matrix to a dense array for easier manipulation and access\n",
    "bow_array = bow.toarray()\n",
    "\n",
    "# Retrieve the list of all words that constitute the vocabulary of the dataset\n",
    "vocabulary = vectorizer.get_feature_names_out()"
   ]
  },
  {
   "cell_type": "code",
   "execution_count": 86,
   "id": "91ad180b",
   "metadata": {},
   "outputs": [
    {
     "name": "stdout",
     "output_type": "stream",
     "text": [
      "Most common words:\n",
      "يا: 1302\n",
      "جبران: 1016\n",
      "باسيل: 1014\n",
      "شو: 368\n",
      "الله: 344\n",
      "عم: 313\n",
      "لبنان: 266\n",
      "مش: 231\n",
      "وهاب: 207\n",
      "هوا: 202\n",
      "كول: 193\n",
      "شي: 180\n",
      "قطر: 178\n",
      "الوزير: 164\n",
      "انو: 162\n",
      "كلب: 158\n",
      "مين: 149\n",
      "وءام: 143\n",
      "هيك: 134\n",
      "متل: 134\n",
      "سوريا: 132\n",
      "والله: 124\n",
      "وزير: 123\n",
      "حدا: 120\n",
      "روح: 106\n",
      "اسراءيل: 105\n",
      "هيدا: 105\n",
      "دوله: 104\n",
      "الرءيس: 104\n",
      "اللي: 101\n",
      "بدك: 96\n",
      "بلا: 96\n",
      "عون: 93\n",
      "عثمان: 92\n",
      "يعني: 87\n",
      "القمه: 85\n",
      "العربيه: 83\n",
      "انك: 82\n",
      "منك: 82\n",
      "لازم: 80\n",
      "وانت: 79\n",
      "كنت: 77\n",
      "ابن: 77\n",
      "حمار: 75\n",
      "الخارجيه: 73\n",
      "بشار: 73\n",
      "رح: 70\n",
      "حق: 70\n",
      "ولك: 70\n",
      "الاسد: 69\n"
     ]
    }
   ],
   "source": [
    "import numpy as np\n",
    "\n",
    "# Sum the occurrences of each word across all documents to get total word counts\n",
    "word_counts = np.sum(bow_array, axis=0)\n",
    "\n",
    "# Get indices that would sort the word counts array in descending order\n",
    "sorted_indices = np.argsort(word_counts)[::-1]\n",
    "\n",
    "# Use sorted indices to arrange words in order of descending frequency\n",
    "sorted_words = vocabulary[sorted_indices]\n",
    "\n",
    "# Apply sorted indices to word counts to align with sorted vocabulary\n",
    "sorted_counts = word_counts[sorted_indices]\n",
    "\n",
    "# Define the number of top common words to display\n",
    "num_top_words = 50\n",
    "\n",
    "# Print the top N most common words and their corresponding counts\n",
    "print(\"Most common words:\")\n",
    "for i in range(num_top_words):\n",
    "    print(f\"{sorted_words[i]}: {sorted_counts[i]}\")"
   ]
  },
  {
   "cell_type": "code",
   "execution_count": 87,
   "id": "88c993df",
   "metadata": {
    "scrolled": false
   },
   "outputs": [
    {
     "name": "stderr",
     "output_type": "stream",
     "text": [
      "huggingface/tokenizers: The current process just got forked, after parallelism has already been used. Disabling parallelism to avoid deadlocks...\n",
      "To disable this warning, you can either:\n",
      "\t- Avoid using `tokenizers` before the fork if possible\n",
      "\t- Explicitly set the environment variable TOKENIZERS_PARALLELISM=(true | false)\n"
     ]
    },
    {
     "name": "stdout",
     "output_type": "stream",
     "text": [
      "Requirement already satisfied: wordcloud in /Users/ahmed/anaconda3/lib/python3.11/site-packages (1.9.3)\n",
      "Requirement already satisfied: numpy>=1.6.1 in /Users/ahmed/anaconda3/lib/python3.11/site-packages (from wordcloud) (1.26.4)\n",
      "Requirement already satisfied: pillow in /Users/ahmed/anaconda3/lib/python3.11/site-packages (from wordcloud) (9.4.0)\n",
      "Requirement already satisfied: matplotlib in /Users/ahmed/anaconda3/lib/python3.11/site-packages (from wordcloud) (3.7.1)\n",
      "Requirement already satisfied: contourpy>=1.0.1 in /Users/ahmed/anaconda3/lib/python3.11/site-packages (from matplotlib->wordcloud) (1.0.5)\n",
      "Requirement already satisfied: cycler>=0.10 in /Users/ahmed/anaconda3/lib/python3.11/site-packages (from matplotlib->wordcloud) (0.11.0)\n",
      "Requirement already satisfied: fonttools>=4.22.0 in /Users/ahmed/anaconda3/lib/python3.11/site-packages (from matplotlib->wordcloud) (4.25.0)\n",
      "Requirement already satisfied: kiwisolver>=1.0.1 in /Users/ahmed/anaconda3/lib/python3.11/site-packages (from matplotlib->wordcloud) (1.4.4)\n",
      "Requirement already satisfied: packaging>=20.0 in /Users/ahmed/anaconda3/lib/python3.11/site-packages (from matplotlib->wordcloud) (24.0)\n",
      "Requirement already satisfied: pyparsing>=2.3.1 in /Users/ahmed/anaconda3/lib/python3.11/site-packages (from matplotlib->wordcloud) (3.1.1)\n",
      "Requirement already satisfied: python-dateutil>=2.7 in /Users/ahmed/anaconda3/lib/python3.11/site-packages (from matplotlib->wordcloud) (2.9.0.post0)\n",
      "Requirement already satisfied: six>=1.5 in /Users/ahmed/anaconda3/lib/python3.11/site-packages (from python-dateutil>=2.7->matplotlib->wordcloud) (1.16.0)\n",
      "Note: you may need to restart the kernel to use updated packages.\n"
     ]
    }
   ],
   "source": [
    "pip install wordcloud"
   ]
  },
  {
   "cell_type": "code",
   "execution_count": 88,
   "id": "40ce7b43",
   "metadata": {
    "scrolled": false
   },
   "outputs": [
    {
     "name": "stderr",
     "output_type": "stream",
     "text": [
      "huggingface/tokenizers: The current process just got forked, after parallelism has already been used. Disabling parallelism to avoid deadlocks...\n",
      "To disable this warning, you can either:\n",
      "\t- Avoid using `tokenizers` before the fork if possible\n",
      "\t- Explicitly set the environment variable TOKENIZERS_PARALLELISM=(true | false)\n"
     ]
    },
    {
     "name": "stdout",
     "output_type": "stream",
     "text": [
      "Requirement already satisfied: arabic-reshaper in /Users/ahmed/anaconda3/lib/python3.11/site-packages (3.0.0)\n",
      "Requirement already satisfied: python-bidi in /Users/ahmed/anaconda3/lib/python3.11/site-packages (0.4.2)\n",
      "Requirement already satisfied: six in /Users/ahmed/anaconda3/lib/python3.11/site-packages (from python-bidi) (1.16.0)\n",
      "Note: you may need to restart the kernel to use updated packages.\n"
     ]
    }
   ],
   "source": [
    "pip install arabic-reshaper python-bidi"
   ]
  },
  {
   "cell_type": "code",
   "execution_count": 89,
   "id": "f4158a8e",
   "metadata": {},
   "outputs": [],
   "source": [
    "# Create a dictionary of word frequencies.\n",
    "word_frequencies = {word: count for word, count in zip(sorted_words, sorted_counts)}"
   ]
  },
  {
   "cell_type": "code",
   "execution_count": 90,
   "id": "e3924151",
   "metadata": {},
   "outputs": [
    {
     "data": {
      "image/png": "[encoded data removed]",
      "text/plain": [
       "<Figure size 1000x500 with 1 Axes>"
      ]
     },
     "metadata": {},
     "output_type": "display_data"
    }
   ],
   "source": [
    "import arabic_reshaper\n",
    "from bidi.algorithm import get_display\n",
    "import matplotlib.pyplot as plt\n",
    "from wordcloud import WordCloud\n",
    "\n",
    "# Manually filter out stop words before reshaping\n",
    "filtered_tweets = df['Tweet'].apply(lambda x: ' '.join([word for word in x.split() if word not in arabic_stop_words]))\n",
    "\n",
    "# Join the tweets into a single string, then reshape\n",
    "data = \" \".join(filtered_tweets.apply(arabic_reshaper.reshape))\n",
    "\n",
    "# Apply the BiDi algorithm for correct right-to-left display\n",
    "data = get_display(data)\n",
    "\n",
    "# Generate the word cloud without specifying stop words this time (as they've been manually removed)\n",
    "wordcloud = WordCloud(\n",
    "    font_path='/Users/ahmed/Downloads/Amiri/Amiri-Regular.ttf',\n",
    "    background_color='white',\n",
    "    mode='RGB',\n",
    "    width=2000,\n",
    "    height=1000\n",
    ").generate(data)\n",
    "\n",
    "# Display the word cloud\n",
    "plt.figure(figsize=(10, 5))\n",
    "plt.title(\"Word Cloud\")\n",
    "plt.imshow(wordcloud, interpolation='bilinear')\n",
    "plt.axis(\"off\")\n",
    "plt.show()"
   ]
  },
  {
   "cell_type": "code",
   "execution_count": null,
   "id": "27940c19",
   "metadata": {},
   "outputs": [],
   "source": []
  },
  {
   "cell_type": "code",
   "execution_count": null,
   "id": "94c55c6f",
   "metadata": {},
   "outputs": [],
   "source": []
  },
  {
   "cell_type": "code",
   "execution_count": null,
   "id": "9d850635",
   "metadata": {},
   "outputs": [],
   "source": []
  },
  {
   "cell_type": "code",
   "execution_count": null,
   "id": "9507c5a2",
   "metadata": {},
   "outputs": [],
   "source": []
  },
  {
   "cell_type": "code",
   "execution_count": null,
   "id": "a87433a6",
   "metadata": {},
   "outputs": [],
   "source": []
  },
  {
   "cell_type": "code",
   "execution_count": null,
   "id": "b3046125",
   "metadata": {},
   "outputs": [],
   "source": []
  },
  {
   "cell_type": "code",
   "execution_count": 92,
   "id": "eb568340",
   "metadata": {},
   "outputs": [],
   "source": [
    "# Convert each BoW vector to a list and add as a new column in the DataFrame\n",
    "# df['BoW'] = list(map(list, bow_array))"
   ]
  },
  {
   "cell_type": "code",
   "execution_count": null,
   "id": "66e09438",
   "metadata": {},
   "outputs": [],
   "source": []
  },
  {
   "cell_type": "code",
   "execution_count": 93,
   "id": "8979db68",
   "metadata": {},
   "outputs": [],
   "source": [
    "# Apply the mapping to the 'Class' column\n",
    "df['Class'] = df['Class'].map({'hate': 1, 'normal': 0})"
   ]
  },
  {
   "cell_type": "code",
   "execution_count": 94,
   "id": "44ab2166",
   "metadata": {},
   "outputs": [
    {
     "data": {
      "text/html": [
       "<div>\n",
       "<style scoped>\n",
       "    .dataframe tbody tr th:only-of-type {\n",
       "        vertical-align: middle;\n",
       "    }\n",
       "\n",
       "    .dataframe tbody tr th {\n",
       "        vertical-align: top;\n",
       "    }\n",
       "\n",
       "    .dataframe thead th {\n",
       "        text-align: right;\n",
       "    }\n",
       "</style>\n",
       "<table border=\"1\" class=\"dataframe\">\n",
       "  <thead>\n",
       "    <tr style=\"text-align: right;\">\n",
       "      <th></th>\n",
       "      <th>Tweet</th>\n",
       "      <th>Class</th>\n",
       "      <th>Tweet_Length</th>\n",
       "      <th>Tokenized_Tweet</th>\n",
       "    </tr>\n",
       "  </thead>\n",
       "  <tbody>\n",
       "    <tr>\n",
       "      <th>0</th>\n",
       "      <td>الوزير جبران باسيل تاج راسك يا جربان ممنوع بعد...</td>\n",
       "      <td>1</td>\n",
       "      <td>96</td>\n",
       "      <td>[الوزير, جبران, باسيل, تاج, راسك, يا, جربان, م...</td>\n",
       "    </tr>\n",
       "    <tr>\n",
       "      <th>1</th>\n",
       "      <td>صديقي انت ابن جامعه اللعبه اكبر من داعش اللعبه...</td>\n",
       "      <td>0</td>\n",
       "      <td>87</td>\n",
       "      <td>[صديقي, انت, ابن, جامعه, اللعبه, اكبر, من, داع...</td>\n",
       "    </tr>\n",
       "    <tr>\n",
       "      <th>2</th>\n",
       "      <td>و مصلحه لبنان تبدا باستخراج النفط و الغاز لوقف...</td>\n",
       "      <td>0</td>\n",
       "      <td>104</td>\n",
       "      <td>[و, مصلحه, لبنان, تبدا, باستخراج, النفط, و, ال...</td>\n",
       "    </tr>\n",
       "    <tr>\n",
       "      <th>3</th>\n",
       "      <td>وليد جنبلاط كاتب الحكمه يا قذر</td>\n",
       "      <td>1</td>\n",
       "      <td>31</td>\n",
       "      <td>[وليد, جنبلاط, كاتب, الحكمه, يا, قذر]</td>\n",
       "    </tr>\n",
       "    <tr>\n",
       "      <th>4</th>\n",
       "      <td>شو بتلبقلك كلمه خنزير بتجي مفصله علي قياسك وشك...</td>\n",
       "      <td>1</td>\n",
       "      <td>52</td>\n",
       "      <td>[شو, بتلبقلك, كلمه, خنزير, بتجي, مفصله, علي, ق...</td>\n",
       "    </tr>\n",
       "    <tr>\n",
       "      <th>...</th>\n",
       "      <td>...</td>\n",
       "      <td>...</td>\n",
       "      <td>...</td>\n",
       "      <td>...</td>\n",
       "    </tr>\n",
       "    <tr>\n",
       "      <th>5840</th>\n",
       "      <td>اسم الله عليك فرجيني عرض كتافك يا فهيم علي فكر...</td>\n",
       "      <td>0</td>\n",
       "      <td>85</td>\n",
       "      <td>[اسم, الله, عليك, فرجيني, عرض, كتافك, يا, فهيم...</td>\n",
       "    </tr>\n",
       "    <tr>\n",
       "      <th>5841</th>\n",
       "      <td>امير المليشيا مش خاءن</td>\n",
       "      <td>0</td>\n",
       "      <td>21</td>\n",
       "      <td>[امير, المليشيا, مش, خاءن]</td>\n",
       "    </tr>\n",
       "    <tr>\n",
       "      <th>5842</th>\n",
       "      <td>صدقت يناسبك جدا جدا</td>\n",
       "      <td>0</td>\n",
       "      <td>20</td>\n",
       "      <td>[صدقت, يناسبك, جدا, جدا]</td>\n",
       "    </tr>\n",
       "    <tr>\n",
       "      <th>5843</th>\n",
       "      <td>لبخليني حب باسيل شغلتين</td>\n",
       "      <td>0</td>\n",
       "      <td>23</td>\n",
       "      <td>[لبخليني, حب, باسيل, شغلتين]</td>\n",
       "    </tr>\n",
       "    <tr>\n",
       "      <th>5844</th>\n",
       "      <td>ليش تيوس الامارت والسعوديه مع السوريين واليمني...</td>\n",
       "      <td>1</td>\n",
       "      <td>75</td>\n",
       "      <td>[ليش, تيوس, الامارت, والسعوديه, مع, السوريين, ...</td>\n",
       "    </tr>\n",
       "  </tbody>\n",
       "</table>\n",
       "<p>5705 rows × 4 columns</p>\n",
       "</div>"
      ],
      "text/plain": [
       "                                                  Tweet  Class  Tweet_Length  \\\n",
       "0     الوزير جبران باسيل تاج راسك يا جربان ممنوع بعد...      1            96   \n",
       "1     صديقي انت ابن جامعه اللعبه اكبر من داعش اللعبه...      0            87   \n",
       "2     و مصلحه لبنان تبدا باستخراج النفط و الغاز لوقف...      0           104   \n",
       "3                       وليد جنبلاط كاتب الحكمه يا قذر       1            31   \n",
       "4     شو بتلبقلك كلمه خنزير بتجي مفصله علي قياسك وشك...      1            52   \n",
       "...                                                 ...    ...           ...   \n",
       "5840  اسم الله عليك فرجيني عرض كتافك يا فهيم علي فكر...      0            85   \n",
       "5841                              امير المليشيا مش خاءن      0            21   \n",
       "5842                               صدقت يناسبك جدا جدا       0            20   \n",
       "5843                            لبخليني حب باسيل شغلتين      0            23   \n",
       "5844  ليش تيوس الامارت والسعوديه مع السوريين واليمني...      1            75   \n",
       "\n",
       "                                        Tokenized_Tweet  \n",
       "0     [الوزير, جبران, باسيل, تاج, راسك, يا, جربان, م...  \n",
       "1     [صديقي, انت, ابن, جامعه, اللعبه, اكبر, من, داع...  \n",
       "2     [و, مصلحه, لبنان, تبدا, باستخراج, النفط, و, ال...  \n",
       "3                 [وليد, جنبلاط, كاتب, الحكمه, يا, قذر]  \n",
       "4     [شو, بتلبقلك, كلمه, خنزير, بتجي, مفصله, علي, ق...  \n",
       "...                                                 ...  \n",
       "5840  [اسم, الله, عليك, فرجيني, عرض, كتافك, يا, فهيم...  \n",
       "5841                         [امير, المليشيا, مش, خاءن]  \n",
       "5842                           [صدقت, يناسبك, جدا, جدا]  \n",
       "5843                       [لبخليني, حب, باسيل, شغلتين]  \n",
       "5844  [ليش, تيوس, الامارت, والسعوديه, مع, السوريين, ...  \n",
       "\n",
       "[5705 rows x 4 columns]"
      ]
     },
     "execution_count": 94,
     "metadata": {},
     "output_type": "execute_result"
    }
   ],
   "source": [
    "df"
   ]
  },
  {
   "cell_type": "code",
   "execution_count": 95,
   "id": "b34fc980",
   "metadata": {},
   "outputs": [
    {
     "name": "stderr",
     "output_type": "stream",
     "text": [
      "/Users/ahmed/anaconda3/lib/python3.11/site-packages/sklearn/feature_extraction/text.py:409: UserWarning: Your stop_words may be inconsistent with your preprocessing. Tokenizing the stop words generated tokens ['افعل', 'افعله', 'انفك', 'برح', 'سيما'] not in stop_words.\n",
      "  warnings.warn(\n"
     ]
    }
   ],
   "source": [
    "from sklearn.feature_extraction.text import CountVectorizer\n",
    "from sklearn.model_selection import train_test_split\n",
    "\n",
    "# Splitting the data into train and test sets\n",
    "X_train, X_test, y_train, y_test = train_test_split(df['Tweet'], df['Class'], test_size=0.2, random_state=42)\n",
    "\n",
    "# Initialize the CountVectorizer\n",
    "vectorizer = CountVectorizer(stop_words=arabic_stop_words)\n",
    "\n",
    "# Fit the vectorizer on the training data and transform the text data to BoW vectors\n",
    "X_train_bow = vectorizer.fit_transform(X_train)\n",
    "\n",
    "# Transform the test data to BoW vectors\n",
    "X_test_bow = vectorizer.transform(X_test)"
   ]
  },
  {
   "cell_type": "code",
   "execution_count": 96,
   "id": "117ca691",
   "metadata": {
    "scrolled": true
   },
   "outputs": [
    {
     "name": "stdout",
     "output_type": "stream",
     "text": [
      "Accuracy: 0.8247151621384751\n",
      "\n",
      "Classification Report:\n",
      "               precision    recall  f1-score   support\n",
      "\n",
      "           0       0.82      0.93      0.87       727\n",
      "           1       0.84      0.64      0.73       414\n",
      "\n",
      "    accuracy                           0.82      1141\n",
      "   macro avg       0.83      0.78      0.80      1141\n",
      "weighted avg       0.83      0.82      0.82      1141\n",
      "\n"
     ]
    }
   ],
   "source": [
    "from sklearn.linear_model import LogisticRegression\n",
    "from sklearn.metrics import accuracy_score, classification_report\n",
    "\n",
    "# Initialize the Logistic Regression model\n",
    "model = LogisticRegression()\n",
    "\n",
    "# Train the model with BoW vectors\n",
    "model.fit(X_train_bow, y_train)\n",
    "\n",
    "# Predict sentiment for the test data\n",
    "y_pred_bow = model.predict(X_test_bow)\n",
    "\n",
    "# Evaluate the model\n",
    "print(\"Accuracy:\", accuracy_score(y_test, y_pred_bow))\n",
    "print(\"\\nClassification Report:\\n\", classification_report(y_test, y_pred_bow))"
   ]
  },
  {
   "cell_type": "code",
   "execution_count": 97,
   "id": "b9005e17",
   "metadata": {},
   "outputs": [
    {
     "name": "stdout",
     "output_type": "stream",
     "text": [
      "Confusion Matrix:\n",
      " [[676  51]\n",
      " [149 265]]\n",
      "True Negatives (TN): 676\n",
      "False Positives (FP): 51\n",
      "False Negatives (FN): 149\n",
      "True Positives (TP): 265\n"
     ]
    }
   ],
   "source": [
    "from sklearn.metrics import confusion_matrix\n",
    "\n",
    "cm = confusion_matrix(y_test, y_pred_bow)\n",
    "\n",
    "# Printing the confusion matrix\n",
    "print(\"Confusion Matrix:\\n\", cm)\n",
    "\n",
    "# Alternatively, for a more readable format:\n",
    "tn, fp, fn, tp = cm.ravel()\n",
    "print(f\"True Negatives (TN): {tn}\")\n",
    "print(f\"False Positives (FP): {fp}\")\n",
    "print(f\"False Negatives (FN): {fn}\")\n",
    "print(f\"True Positives (TP): {tp}\")"
   ]
  },
  {
   "cell_type": "code",
   "execution_count": 106,
   "id": "18f67034",
   "metadata": {},
   "outputs": [
    {
     "data": {
      "image/png": "[encoded data removed]",
      "text/plain": [
       "<Figure size 640x480 with 1 Axes>"
      ]
     },
     "metadata": {},
     "output_type": "display_data"
    }
   ],
   "source": [
    "from sklearn.metrics import roc_curve, auc\n",
    "\n",
    "\n",
    "# Predict probabilities for the test data\n",
    "y_scores = model.predict_proba(X_test_bow)[:, 1]\n",
    "\n",
    "# Compute ROC curve and ROC area\n",
    "fpr, tpr, thresholds = roc_curve(y_test, y_scores)\n",
    "roc_auc = auc(fpr, tpr)\n",
    "\n",
    "# Plot ROC curve\n",
    "plt.figure()\n",
    "plt.plot(fpr, tpr, color='darkorange', lw=2, label='ROC curve (area = %0.2f)' % roc_auc)\n",
    "plt.plot([0, 1], [0, 1], color='navy', lw=2, linestyle='--')\n",
    "plt.xlim([0.0, 1.0])\n",
    "plt.ylim([0.0, 1.05])\n",
    "plt.xlabel('False Positive Rate')\n",
    "plt.ylabel('True Positive Rate')\n",
    "plt.title('Receiver Operating Characteristic')\n",
    "plt.legend(loc=\"lower right\")\n",
    "plt.show()"
   ]
  },
  {
   "cell_type": "code",
   "execution_count": null,
   "id": "ed3b441a",
   "metadata": {},
   "outputs": [],
   "source": []
  },
  {
   "cell_type": "code",
   "execution_count": null,
   "id": "549cfaf9",
   "metadata": {},
   "outputs": [],
   "source": []
  },
  {
   "cell_type": "code",
   "execution_count": 40,
   "id": "1864b1a1",
   "metadata": {},
   "outputs": [
    {
     "name": "stderr",
     "output_type": "stream",
     "text": [
      "/Users/ahmed/anaconda3/lib/python3.11/site-packages/sklearn/feature_extraction/text.py:409: UserWarning: Your stop_words may be inconsistent with your preprocessing. Tokenizing the stop words generated tokens ['افعل', 'افعله', 'انفك', 'برح', 'سيما'] not in stop_words.\n",
      "  warnings.warn(\n"
     ]
    }
   ],
   "source": [
    "from sklearn.feature_extraction.text import TfidfVectorizer\n",
    "\n",
    "# Initialize the TfidfVectorizer with a list of stop words to exclude from analysis\n",
    "tfidf_vectorizer = TfidfVectorizer(stop_words=arabic_stop_words)\n",
    "\n",
    "# Fit the vectorizer on the training data and transform the text data to TF-IDF vectors\n",
    "X_train_tfidf = tfidf_vectorizer.fit_transform(X_train)\n",
    "X_test_tfidf = tfidf_vectorizer.transform(X_test)"
   ]
  },
  {
   "cell_type": "code",
   "execution_count": 41,
   "id": "dec25198",
   "metadata": {},
   "outputs": [
    {
     "name": "stdout",
     "output_type": "stream",
     "text": [
      "Accuracy with TF-IDF: 0.803680981595092\n",
      "\n",
      "Classification Report with TF-IDF:\n",
      "               precision    recall  f1-score   support\n",
      "\n",
      "           0       0.79      0.94      0.86       727\n",
      "           1       0.84      0.57      0.68       414\n",
      "\n",
      "    accuracy                           0.80      1141\n",
      "   macro avg       0.82      0.75      0.77      1141\n",
      "weighted avg       0.81      0.80      0.79      1141\n",
      "\n"
     ]
    }
   ],
   "source": [
    "# Initialize the Logistic Regression model\n",
    "model_tfidf = LogisticRegression()\n",
    "\n",
    "# Train the model with TF-IDF vectors\n",
    "model_tfidf.fit(X_train_tfidf, y_train)\n",
    "\n",
    "# Predict sentiment for the test data\n",
    "y_pred_tfidf = model_tfidf.predict(X_test_tfidf)\n",
    "\n",
    "# Evaluate the model\n",
    "print(\"Accuracy with TF-IDF:\", accuracy_score(y_test, y_pred_tfidf))\n",
    "print(\"\\nClassification Report with TF-IDF:\\n\", classification_report(y_test, y_pred_tfidf))"
   ]
  },
  {
   "cell_type": "code",
   "execution_count": null,
   "id": "4e0a918a",
   "metadata": {},
   "outputs": [],
   "source": []
  },
  {
   "cell_type": "code",
   "execution_count": null,
   "id": "409fdb58",
   "metadata": {},
   "outputs": [],
   "source": []
  },
  {
   "cell_type": "code",
   "execution_count": 42,
   "id": "0ceb02c7",
   "metadata": {},
   "outputs": [
    {
     "ename": "FileNotFoundError",
     "evalue": "[Errno 2] No such file or directory: 'GoogleNews-vectors-negative300.bin'",
     "output_type": "error",
     "traceback": [
      "\u001b[0;31m---------------------------------------------------------------------------\u001b[0m",
      "\u001b[0;31mFileNotFoundError\u001b[0m                         Traceback (most recent call last)",
      "Cell \u001b[0;32mIn[42], line 5\u001b[0m\n\u001b[1;32m      3\u001b[0m \u001b[38;5;66;03m# Load the Word2Vec model\u001b[39;00m\n\u001b[1;32m      4\u001b[0m model_path \u001b[38;5;241m=\u001b[39m \u001b[38;5;124m'\u001b[39m\u001b[38;5;124mGoogleNews-vectors-negative300.bin\u001b[39m\u001b[38;5;124m'\u001b[39m\n\u001b[0;32m----> 5\u001b[0m word2vec_model \u001b[38;5;241m=\u001b[39m KeyedVectors\u001b[38;5;241m.\u001b[39mload_word2vec_format(model_path, binary\u001b[38;5;241m=\u001b[39m\u001b[38;5;28;01mTrue\u001b[39;00m)\n",
      "File \u001b[0;32m~/anaconda3/lib/python3.11/site-packages/gensim/models/keyedvectors.py:1719\u001b[0m, in \u001b[0;36mKeyedVectors.load_word2vec_format\u001b[0;34m(cls, fname, fvocab, binary, encoding, unicode_errors, limit, datatype, no_header)\u001b[0m\n\u001b[1;32m   1672\u001b[0m \u001b[38;5;129m@classmethod\u001b[39m\n\u001b[1;32m   1673\u001b[0m \u001b[38;5;28;01mdef\u001b[39;00m \u001b[38;5;21mload_word2vec_format\u001b[39m(\n\u001b[1;32m   1674\u001b[0m         \u001b[38;5;28mcls\u001b[39m, fname, fvocab\u001b[38;5;241m=\u001b[39m\u001b[38;5;28;01mNone\u001b[39;00m, binary\u001b[38;5;241m=\u001b[39m\u001b[38;5;28;01mFalse\u001b[39;00m, encoding\u001b[38;5;241m=\u001b[39m\u001b[38;5;124m'\u001b[39m\u001b[38;5;124mutf8\u001b[39m\u001b[38;5;124m'\u001b[39m, unicode_errors\u001b[38;5;241m=\u001b[39m\u001b[38;5;124m'\u001b[39m\u001b[38;5;124mstrict\u001b[39m\u001b[38;5;124m'\u001b[39m,\n\u001b[1;32m   1675\u001b[0m         limit\u001b[38;5;241m=\u001b[39m\u001b[38;5;28;01mNone\u001b[39;00m, datatype\u001b[38;5;241m=\u001b[39mREAL, no_header\u001b[38;5;241m=\u001b[39m\u001b[38;5;28;01mFalse\u001b[39;00m,\n\u001b[1;32m   1676\u001b[0m     ):\n\u001b[1;32m   1677\u001b[0m \u001b[38;5;250m    \u001b[39m\u001b[38;5;124;03m\"\"\"Load KeyedVectors from a file produced by the original C word2vec-tool format.\u001b[39;00m\n\u001b[1;32m   1678\u001b[0m \n\u001b[1;32m   1679\u001b[0m \u001b[38;5;124;03m    Warnings\u001b[39;00m\n\u001b[0;32m   (...)\u001b[0m\n\u001b[1;32m   1717\u001b[0m \n\u001b[1;32m   1718\u001b[0m \u001b[38;5;124;03m    \"\"\"\u001b[39;00m\n\u001b[0;32m-> 1719\u001b[0m     \u001b[38;5;28;01mreturn\u001b[39;00m _load_word2vec_format(\n\u001b[1;32m   1720\u001b[0m         \u001b[38;5;28mcls\u001b[39m, fname, fvocab\u001b[38;5;241m=\u001b[39mfvocab, binary\u001b[38;5;241m=\u001b[39mbinary, encoding\u001b[38;5;241m=\u001b[39mencoding, unicode_errors\u001b[38;5;241m=\u001b[39municode_errors,\n\u001b[1;32m   1721\u001b[0m         limit\u001b[38;5;241m=\u001b[39mlimit, datatype\u001b[38;5;241m=\u001b[39mdatatype, no_header\u001b[38;5;241m=\u001b[39mno_header,\n\u001b[1;32m   1722\u001b[0m     )\n",
      "File \u001b[0;32m~/anaconda3/lib/python3.11/site-packages/gensim/models/keyedvectors.py:2048\u001b[0m, in \u001b[0;36m_load_word2vec_format\u001b[0;34m(cls, fname, fvocab, binary, encoding, unicode_errors, limit, datatype, no_header, binary_chunk_size)\u001b[0m\n\u001b[1;32m   2045\u001b[0m             counts[word] \u001b[38;5;241m=\u001b[39m \u001b[38;5;28mint\u001b[39m(count)\n\u001b[1;32m   2047\u001b[0m logger\u001b[38;5;241m.\u001b[39minfo(\u001b[38;5;124m\"\u001b[39m\u001b[38;5;124mloading projection weights from \u001b[39m\u001b[38;5;132;01m%s\u001b[39;00m\u001b[38;5;124m\"\u001b[39m, fname)\n\u001b[0;32m-> 2048\u001b[0m \u001b[38;5;28;01mwith\u001b[39;00m utils\u001b[38;5;241m.\u001b[39mopen(fname, \u001b[38;5;124m'\u001b[39m\u001b[38;5;124mrb\u001b[39m\u001b[38;5;124m'\u001b[39m) \u001b[38;5;28;01mas\u001b[39;00m fin:\n\u001b[1;32m   2049\u001b[0m     \u001b[38;5;28;01mif\u001b[39;00m no_header:\n\u001b[1;32m   2050\u001b[0m         \u001b[38;5;66;03m# deduce both vocab_size & vector_size from 1st pass over file\u001b[39;00m\n\u001b[1;32m   2051\u001b[0m         \u001b[38;5;28;01mif\u001b[39;00m binary:\n",
      "File \u001b[0;32m~/anaconda3/lib/python3.11/site-packages/smart_open/smart_open_lib.py:188\u001b[0m, in \u001b[0;36mopen\u001b[0;34m(uri, mode, buffering, encoding, errors, newline, closefd, opener, ignore_ext, compression, transport_params)\u001b[0m\n\u001b[1;32m    185\u001b[0m \u001b[38;5;28;01mif\u001b[39;00m transport_params \u001b[38;5;129;01mis\u001b[39;00m \u001b[38;5;28;01mNone\u001b[39;00m:\n\u001b[1;32m    186\u001b[0m     transport_params \u001b[38;5;241m=\u001b[39m {}\n\u001b[0;32m--> 188\u001b[0m fobj \u001b[38;5;241m=\u001b[39m _shortcut_open(\n\u001b[1;32m    189\u001b[0m     uri,\n\u001b[1;32m    190\u001b[0m     mode,\n\u001b[1;32m    191\u001b[0m     compression\u001b[38;5;241m=\u001b[39mcompression,\n\u001b[1;32m    192\u001b[0m     buffering\u001b[38;5;241m=\u001b[39mbuffering,\n\u001b[1;32m    193\u001b[0m     encoding\u001b[38;5;241m=\u001b[39mencoding,\n\u001b[1;32m    194\u001b[0m     errors\u001b[38;5;241m=\u001b[39merrors,\n\u001b[1;32m    195\u001b[0m     newline\u001b[38;5;241m=\u001b[39mnewline,\n\u001b[1;32m    196\u001b[0m )\n\u001b[1;32m    197\u001b[0m \u001b[38;5;28;01mif\u001b[39;00m fobj \u001b[38;5;129;01mis\u001b[39;00m \u001b[38;5;129;01mnot\u001b[39;00m \u001b[38;5;28;01mNone\u001b[39;00m:\n\u001b[1;32m    198\u001b[0m     \u001b[38;5;28;01mreturn\u001b[39;00m fobj\n",
      "File \u001b[0;32m~/anaconda3/lib/python3.11/site-packages/smart_open/smart_open_lib.py:361\u001b[0m, in \u001b[0;36m_shortcut_open\u001b[0;34m(uri, mode, compression, buffering, encoding, errors, newline)\u001b[0m\n\u001b[1;32m    358\u001b[0m \u001b[38;5;28;01mif\u001b[39;00m errors \u001b[38;5;129;01mand\u001b[39;00m \u001b[38;5;124m'\u001b[39m\u001b[38;5;124mb\u001b[39m\u001b[38;5;124m'\u001b[39m \u001b[38;5;129;01mnot\u001b[39;00m \u001b[38;5;129;01min\u001b[39;00m mode:\n\u001b[1;32m    359\u001b[0m     open_kwargs[\u001b[38;5;124m'\u001b[39m\u001b[38;5;124merrors\u001b[39m\u001b[38;5;124m'\u001b[39m] \u001b[38;5;241m=\u001b[39m errors\n\u001b[0;32m--> 361\u001b[0m \u001b[38;5;28;01mreturn\u001b[39;00m _builtin_open(local_path, mode, buffering\u001b[38;5;241m=\u001b[39mbuffering, \u001b[38;5;241m*\u001b[39m\u001b[38;5;241m*\u001b[39mopen_kwargs)\n",
      "\u001b[0;31mFileNotFoundError\u001b[0m: [Errno 2] No such file or directory: 'GoogleNews-vectors-negative300.bin'"
     ]
    }
   ],
   "source": [
    "from gensim.models import KeyedVectors\n",
    "\n",
    "# Load the Word2Vec model\n",
    "model_path = 'GoogleNews-vectors-negative300.bin'\n",
    "word2vec_model = KeyedVectors.load_word2vec_format(model_path, binary=True)"
   ]
  },
  {
   "cell_type": "code",
   "execution_count": null,
   "id": "94e9e249",
   "metadata": {},
   "outputs": [],
   "source": [
    "import numpy as np\n",
    "\n",
    "def text_to_vector(text, model):\n",
    "    word_vectors = []\n",
    "\n",
    "    for word in text.split():\n",
    "        if word in model:  # Check if the word is in the Word2Vec model\n",
    "            word_vectors.append(model[word])\n",
    "\n",
    "    if not word_vectors:\n",
    "        # If the text contains no words in the model, return a zero vector\n",
    "        return np.zeros(model.vector_size)\n",
    "\n",
    "    # Return the average vector of the words in the text\n",
    "    return np.mean(word_vectors, axis=0)"
   ]
  },
  {
   "cell_type": "code",
   "execution_count": null,
   "id": "fe1dd33e",
   "metadata": {},
   "outputs": [],
   "source": [
    "# Assuming 'df' is your DataFrame and 'text_column' is the name of the column containing text\n",
    "df['vector'] = df['Tweet'].apply(lambda x: text_to_vector(x, word2vec_model))"
   ]
  },
  {
   "cell_type": "code",
   "execution_count": null,
   "id": "bc7e0ce0",
   "metadata": {},
   "outputs": [],
   "source": [
    "X_train_w2v = np.array([text_to_vector(text, word2vec_model) for text in X_train])\n",
    "X_test_w2v = np.array([text_to_vector(text, word2vec_model) for text in X_test])"
   ]
  },
  {
   "cell_type": "code",
   "execution_count": null,
   "id": "15ee3444",
   "metadata": {},
   "outputs": [],
   "source": [
    "# Initialize and train a Logistic Regression model (or any other suitable model) on the Word2Vec vectors\n",
    "model_w2v = LogisticRegression().fit(X_train_w2v, y_train)\n",
    "\n",
    "# Predict and evaluate the model\n",
    "y_pred_w2v = model_w2v.predict(X_test_w2v)\n",
    "print(\"Accuracy with Word2Vec:\", accuracy_score(y_test, y_pred_w2v))\n",
    "print(\"\\nClassification Report with Word2Vec:\\n\", classification_report(y_test, y_pred_w2v))"
   ]
  },
  {
   "cell_type": "code",
   "execution_count": null,
   "id": "da40f574",
   "metadata": {},
   "outputs": [],
   "source": []
  },
  {
   "cell_type": "code",
   "execution_count": null,
   "id": "81c1a267",
   "metadata": {},
   "outputs": [],
   "source": []
  },
  {
   "cell_type": "code",
   "execution_count": null,
   "id": "9e02f827",
   "metadata": {},
   "outputs": [],
   "source": [
    "pip install fasttext"
   ]
  },
  {
   "cell_type": "code",
   "execution_count": null,
   "id": "7b7a8d8f",
   "metadata": {},
   "outputs": [],
   "source": [
    "import fasttext\n",
    "\n",
    "# Load the fastText model\n",
    "fasttext_model = fasttext.load_model(\"cc.ar.300.bin\")"
   ]
  },
  {
   "cell_type": "code",
   "execution_count": null,
   "id": "6f919908",
   "metadata": {},
   "outputs": [],
   "source": [
    "import numpy as np\n",
    "\n",
    "def text_to_vector_fasttext(text, model):\n",
    "    word_vectors = []\n",
    "\n",
    "    for word in text.split():\n",
    "        word_vectors.append(model.get_word_vector(word))\n",
    "\n",
    "    if not word_vectors:\n",
    "        return np.zeros(model.get_dimension())\n",
    "\n",
    "    return np.mean(word_vectors, axis=0)"
   ]
  },
  {
   "cell_type": "code",
   "execution_count": null,
   "id": "9bb74013",
   "metadata": {},
   "outputs": [],
   "source": [
    "# Assuming 'df' is your DataFrame and 'text_column' is the name of the column containing text\n",
    "df['vector'] = df['Tweet'].apply(lambda x: text_to_vector_fasttext(x, fasttext_model))"
   ]
  },
  {
   "cell_type": "code",
   "execution_count": null,
   "id": "2c75ecd9",
   "metadata": {},
   "outputs": [],
   "source": [
    "X_train_fasttext = np.array([text_to_vector_fasttext(text, fasttext_model) for text in X_train])\n",
    "X_test_fasttext = np.array([text_to_vector_fasttext(text, fasttext_model) for text in X_test])"
   ]
  },
  {
   "cell_type": "code",
   "execution_count": null,
   "id": "7f3b0343",
   "metadata": {},
   "outputs": [],
   "source": [
    "# Initialize and train a Logistic Regression model (or any other suitable model) on the Word2Vec vectors\n",
    "model_fasttext = LogisticRegression().fit(X_train_fasttext, y_train)\n",
    "\n",
    "# Predict and evaluate the model\n",
    "y_pred_fasttext = model_fasttext.predict(X_test_fasttext)\n",
    "print(\"Accuracy with fastText:\", accuracy_score(y_test, y_pred_fasttext))\n",
    "print(\"\\nClassification Report with fastText:\\n\", classification_report(y_test, y_pred_fasttext))"
   ]
  },
  {
   "cell_type": "code",
   "execution_count": null,
   "id": "376897a0",
   "metadata": {},
   "outputs": [],
   "source": []
  },
  {
   "cell_type": "code",
   "execution_count": null,
   "id": "399372a1",
   "metadata": {},
   "outputs": [],
   "source": []
  },
  {
   "cell_type": "code",
   "execution_count": null,
   "id": "48a477ba",
   "metadata": {},
   "outputs": [],
   "source": [
    "##### Train my own word2vec model \n",
    "\n",
    "from gensim.models import Word2Vec\n",
    "import gensim\n",
    "\n",
    "# Preprocess your text data: tokenize, remove stop words, etc.\n",
    "# Assuming 'tokenized_corpus' is a list of lists of tokens: [['word1', 'word2'], ['word3', 'word4']]\n",
    "tokenized_corpus = [gensim.utils.simple_preprocess(doc) for doc in df['Tweet']]\n",
    "\n",
    "# Train the Word2Vec model\n",
    "word2vec_model = Word2Vec(sentences=tokenized_corpus, vector_size=100, window=5, min_count=5, workers=4)\n",
    "\n",
    "# Save the model for later use\n",
    "word2vec_model.save(\"custom_word2vec.model\")"
   ]
  },
  {
   "cell_type": "code",
   "execution_count": null,
   "id": "779ba24f",
   "metadata": {},
   "outputs": [],
   "source": [
    "def text_to_vector(text, model):\n",
    "    # Tokenize the text\n",
    "    words = gensim.utils.simple_preprocess(text)\n",
    "    # Filter out words not in the model's vocabulary\n",
    "    words = [word for word in words if word in model.wv.key_to_index]\n",
    "    # Return the average Word2Vec vector for the text\n",
    "    return np.mean([model.wv[word] for word in words], axis=0) if words else np.zeros(model.vector_size)"
   ]
  },
  {
   "cell_type": "code",
   "execution_count": null,
   "id": "1647e5fd",
   "metadata": {},
   "outputs": [],
   "source": [
    "# Load the custom Word2Vec model\n",
    "word2vec_model = gensim.models.Word2Vec.load(\"custom_word2vec.model\")\n",
    "\n",
    "# Word2Vec Vectorization\n",
    "X_train_w2v = np.array([text_to_vector(text, word2vec_model) for text in X_train])\n",
    "X_test_w2v = np.array([text_to_vector(text, word2vec_model) for text in X_test])"
   ]
  },
  {
   "cell_type": "code",
   "execution_count": null,
   "id": "b4ed2b39",
   "metadata": {},
   "outputs": [],
   "source": [
    "model = LogisticRegression().fit(X_train_w2v, y_train)\n",
    "y_pred = model.predict(X_test_w2v)\n",
    "print(f\"Custom word2vec Model Evaluation:\")\n",
    "print(\"Accuracy:\", accuracy_score(y_test, y_pred))\n",
    "print(\"Classification Report:\\n\", classification_report(y_test, y_pred), \"\\n\")"
   ]
  },
  {
   "cell_type": "code",
   "execution_count": null,
   "id": "06f833f9",
   "metadata": {},
   "outputs": [],
   "source": []
  },
  {
   "cell_type": "code",
   "execution_count": null,
   "id": "585086c0",
   "metadata": {},
   "outputs": [],
   "source": []
  },
  {
   "cell_type": "code",
   "execution_count": null,
   "id": "a66887e8",
   "metadata": {},
   "outputs": [],
   "source": [
    "def load_glove_embeddings(path):\n",
    "    embeddings = {}\n",
    "    with open(path, 'r', encoding='utf-8') as f:\n",
    "        for line in f:\n",
    "            values = line.split()\n",
    "            word = values[0]\n",
    "            vector = np.asarray(values[1:], dtype='float32')\n",
    "            embeddings[word] = vector\n",
    "    return embeddings\n",
    "\n",
    "# Adjust the path to where you've stored the GloVe embeddings\n",
    "glove_path = 'models/glove/glove.6B.300d.txt'  # Example: 'glove.6B.300d.txt'\n",
    "glove_embeddings = load_glove_embeddings(glove_path)"
   ]
  },
  {
   "cell_type": "code",
   "execution_count": null,
   "id": "5a9aca0b",
   "metadata": {},
   "outputs": [],
   "source": [
    "def text_to_vector_glove(text, embeddings):\n",
    "    words = text.split()\n",
    "    word_vectors = [embeddings[word] for word in words if word in embeddings]\n",
    "    \n",
    "    if not word_vectors:\n",
    "        return np.zeros(300)  # Assuming you are using 300-dimensional GloVe vectors\n",
    "    \n",
    "    return np.mean(word_vectors, axis=0)\n",
    "\n",
    "# Vectorize your dataset\n",
    "X_train_glove = np.array([text_to_vector_glove(text, glove_embeddings) for text in X_train])\n",
    "X_test_glove = np.array([text_to_vector_glove(text, glove_embeddings) for text in X_test])"
   ]
  },
  {
   "cell_type": "code",
   "execution_count": null,
   "id": "dfdf2e3f",
   "metadata": {},
   "outputs": [],
   "source": [
    "# Train a Logistic Regression model\n",
    "model_glove = LogisticRegression().fit(X_train_glove, y_train)\n",
    "\n",
    "# Predict and evaluate\n",
    "y_pred_glove = model_glove.predict(X_test_glove)\n",
    "print(\"Accuracy with GloVe:\", accuracy_score(y_test, y_pred_glove))\n",
    "print(\"\\nClassification Report with GloVe:\\n\", classification_report(y_test, y_pred_glove))"
   ]
  },
  {
   "cell_type": "code",
   "execution_count": null,
   "id": "fef30671",
   "metadata": {},
   "outputs": [],
   "source": []
  },
  {
   "cell_type": "code",
   "execution_count": null,
   "id": "4f1f1462",
   "metadata": {},
   "outputs": [],
   "source": [
    "# NOW TRY DIFFERENT MACHINE LEARNING MODELS"
   ]
  },
  {
   "cell_type": "code",
   "execution_count": null,
   "id": "61377912",
   "metadata": {},
   "outputs": [],
   "source": [
    "from sklearn.naive_bayes import MultinomialNB\n",
    "\n",
    "# Initialize the Multinomial Naive Bayes model\n",
    "nb_classifier = MultinomialNB()\n",
    "\n",
    "# Train the model\n",
    "nb_classifier.fit(X_train_bow, y_train)"
   ]
  },
  {
   "cell_type": "code",
   "execution_count": null,
   "id": "fb5c045f",
   "metadata": {},
   "outputs": [],
   "source": [
    "from sklearn.metrics import accuracy_score, classification_report\n",
    "\n",
    "# Make predictions on the test data\n",
    "y_pred_nb = nb_classifier.predict(X_test_bow)\n",
    "\n",
    "# Evaluate the model\n",
    "print(\"Accuracy with Naive Bayes:\", accuracy_score(y_test, y_pred_nb))\n",
    "print(\"\\nClassification Report with Naive Bayes:\\n\", classification_report(y_test, y_pred_nb))"
   ]
  },
  {
   "cell_type": "code",
   "execution_count": null,
   "id": "30549a0a",
   "metadata": {},
   "outputs": [],
   "source": []
  },
  {
   "cell_type": "code",
   "execution_count": null,
   "id": "45a036b6",
   "metadata": {},
   "outputs": [],
   "source": []
  },
  {
   "cell_type": "code",
   "execution_count": null,
   "id": "14c56929",
   "metadata": {},
   "outputs": [],
   "source": []
  },
  {
   "cell_type": "code",
   "execution_count": null,
   "id": "b7fad4a0",
   "metadata": {},
   "outputs": [],
   "source": []
  },
  {
   "cell_type": "code",
   "execution_count": null,
   "id": "fb02c490",
   "metadata": {},
   "outputs": [],
   "source": []
  },
  {
   "cell_type": "code",
   "execution_count": null,
   "id": "9831e9e6",
   "metadata": {},
   "outputs": [],
   "source": []
  },
  {
   "cell_type": "code",
   "execution_count": null,
   "id": "d5225931",
   "metadata": {},
   "outputs": [],
   "source": [
    "num_top_words = 200\n",
    "print(\"Most common words:\")\n",
    "for i in range(100, num_top_words):\n",
    "    print(f\"{sorted_words[i]}\")"
   ]
  },
  {
   "cell_type": "code",
   "execution_count": null,
   "id": "ee4c1372",
   "metadata": {},
   "outputs": [],
   "source": []
  },
  {
   "cell_type": "code",
   "execution_count": null,
   "id": "8270f6e8",
   "metadata": {},
   "outputs": [],
   "source": []
  },
  {
   "cell_type": "code",
   "execution_count": null,
   "id": "7cd92282",
   "metadata": {},
   "outputs": [],
   "source": []
  },
  {
   "cell_type": "code",
   "execution_count": null,
   "id": "2364b0a4",
   "metadata": {},
   "outputs": [],
   "source": []
  },
  {
   "cell_type": "code",
   "execution_count": null,
   "id": "d9260235",
   "metadata": {},
   "outputs": [],
   "source": [
    "df"
   ]
  },
  {
   "cell_type": "code",
   "execution_count": null,
   "id": "e1418cc8",
   "metadata": {},
   "outputs": [],
   "source": []
  },
  {
   "cell_type": "code",
   "execution_count": null,
   "id": "c95ff76d",
   "metadata": {},
   "outputs": [],
   "source": [
    "df"
   ]
  },
  {
   "cell_type": "code",
   "execution_count": null,
   "id": "0608f36a",
   "metadata": {},
   "outputs": [],
   "source": [
    "len(df['BoW'].tolist()[0])"
   ]
  },
  {
   "cell_type": "code",
   "execution_count": null,
   "id": "bebedfd1",
   "metadata": {},
   "outputs": [],
   "source": []
  },
  {
   "cell_type": "code",
   "execution_count": null,
   "id": "e026469e",
   "metadata": {},
   "outputs": [],
   "source": [
    "###############################################################################################################"
   ]
  },
  {
   "cell_type": "code",
   "execution_count": null,
   "id": "f4956d3e",
   "metadata": {},
   "outputs": [],
   "source": []
  },
  {
   "cell_type": "code",
   "execution_count": null,
   "id": "464a771a",
   "metadata": {},
   "outputs": [],
   "source": []
  },
  {
   "cell_type": "code",
   "execution_count": null,
   "id": "15e9926a",
   "metadata": {},
   "outputs": [],
   "source": []
  },
  {
   "cell_type": "code",
   "execution_count": null,
   "id": "f8c396ae",
   "metadata": {},
   "outputs": [],
   "source": []
  },
  {
   "cell_type": "code",
   "execution_count": null,
   "id": "b132c734",
   "metadata": {},
   "outputs": [],
   "source": []
  },
  {
   "cell_type": "code",
   "execution_count": null,
   "id": "0275368d",
   "metadata": {},
   "outputs": [],
   "source": []
  },
  {
   "cell_type": "code",
   "execution_count": null,
   "id": "5a895e80",
   "metadata": {},
   "outputs": [],
   "source": []
  },
  {
   "cell_type": "code",
   "execution_count": null,
   "id": "15bb2d9c",
   "metadata": {},
   "outputs": [],
   "source": [
    "# for text in df['Tweet']:\n",
    "#     print(araby.tokenize(text), \"\\n\")"
   ]
  },
  {
   "cell_type": "code",
   "execution_count": null,
   "id": "316fac08",
   "metadata": {},
   "outputs": [],
   "source": []
  },
  {
   "cell_type": "code",
   "execution_count": null,
   "id": "30fd7228",
   "metadata": {},
   "outputs": [],
   "source": []
  },
  {
   "cell_type": "code",
   "execution_count": null,
   "id": "5bb54e62",
   "metadata": {},
   "outputs": [],
   "source": []
  },
  {
   "cell_type": "code",
   "execution_count": null,
   "id": "42f53563",
   "metadata": {},
   "outputs": [],
   "source": []
  },
  {
   "cell_type": "code",
   "execution_count": null,
   "id": "c384df78",
   "metadata": {},
   "outputs": [],
   "source": []
  },
  {
   "cell_type": "code",
   "execution_count": null,
   "id": "1dccec55",
   "metadata": {},
   "outputs": [],
   "source": [
    "# import nltk\n",
    "# nltk.download('isri')\n",
    "# from nltk.stem.isri import ISRIStemmer\n",
    "\n",
    "# stemmer = ISRIStemmer()\n",
    "\n",
    "# # Stem the word \"تعلمت\" (meaning \"I learned\")\n",
    "# stemmed_word = stemmer.stem(\"تعلمت\")\n",
    "# print(stemmed_word)\n",
    "# # Output: علم\n",
    "\n",
    "# # Stem the word \"تعلموا\" (meaning \"you (plural) learned\")\n",
    "# stemmed_word = stemmer.stem(\"تعلموا\")\n",
    "# print(stemmed_word)\n",
    "# # Output: علم"
   ]
  },
  {
   "cell_type": "code",
   "execution_count": null,
   "id": "ce1be04b",
   "metadata": {},
   "outputs": [],
   "source": [
    "# for text in df['Tweet']:\n",
    "#     words = araby.tokenize(text)\n",
    "# #     print(araby.tokenize(text), \"\\n\")\n",
    "#     for word in words:\n",
    "#         print(word, \"vs\", stemmer.stem(word))"
   ]
  },
  {
   "cell_type": "code",
   "execution_count": null,
   "id": "f9150b54",
   "metadata": {},
   "outputs": [],
   "source": []
  },
  {
   "cell_type": "code",
   "execution_count": null,
   "id": "5ef12bc9",
   "metadata": {},
   "outputs": [],
   "source": [
    "type(df)"
   ]
  },
  {
   "cell_type": "code",
   "execution_count": null,
   "id": "d8aecba0",
   "metadata": {},
   "outputs": [],
   "source": []
  },
  {
   "cell_type": "code",
   "execution_count": null,
   "id": "e8f77567",
   "metadata": {},
   "outputs": [],
   "source": []
  },
  {
   "cell_type": "code",
   "execution_count": null,
   "id": "7bceca3c",
   "metadata": {},
   "outputs": [],
   "source": []
  },
  {
   "cell_type": "code",
   "execution_count": null,
   "id": "730ef20d",
   "metadata": {},
   "outputs": [],
   "source": []
  },
  {
   "cell_type": "code",
   "execution_count": null,
   "id": "40ad6ee7",
   "metadata": {
    "scrolled": false
   },
   "outputs": [],
   "source": []
  },
  {
   "cell_type": "code",
   "execution_count": null,
   "id": "68ea2404",
   "metadata": {
    "scrolled": true
   },
   "outputs": [],
   "source": []
  },
  {
   "cell_type": "code",
   "execution_count": null,
   "id": "93a6e2eb",
   "metadata": {},
   "outputs": [],
   "source": []
  },
  {
   "cell_type": "code",
   "execution_count": null,
   "id": "38e5775d",
   "metadata": {},
   "outputs": [],
   "source": [
    "# from pyarabic.number import text2number\n",
    "# text2number(u\"خمسمئة وثلاث وعشرون اهلا وسهلا خمسة\")"
   ]
  },
  {
   "cell_type": "code",
   "execution_count": null,
   "id": "65cc916e",
   "metadata": {},
   "outputs": [],
   "source": []
  },
  {
   "cell_type": "code",
   "execution_count": null,
   "id": "010aa96b",
   "metadata": {},
   "outputs": [],
   "source": []
  },
  {
   "cell_type": "code",
   "execution_count": null,
   "id": "0f538776",
   "metadata": {},
   "outputs": [],
   "source": []
  },
  {
   "cell_type": "code",
   "execution_count": null,
   "id": "ef17481a",
   "metadata": {},
   "outputs": [],
   "source": []
  },
  {
   "cell_type": "code",
   "execution_count": null,
   "id": "49a4551c",
   "metadata": {},
   "outputs": [],
   "source": []
  },
  {
   "cell_type": "code",
   "execution_count": null,
   "id": "1541f875",
   "metadata": {},
   "outputs": [],
   "source": []
  },
  {
   "cell_type": "code",
   "execution_count": null,
   "id": "91e4cfdd",
   "metadata": {},
   "outputs": [],
   "source": []
  },
  {
   "cell_type": "code",
   "execution_count": null,
   "id": "bb9717c9",
   "metadata": {},
   "outputs": [],
   "source": []
  },
  {
   "cell_type": "code",
   "execution_count": null,
   "id": "8d1198e6",
   "metadata": {},
   "outputs": [],
   "source": []
  },
  {
   "cell_type": "code",
   "execution_count": null,
   "id": "c7dd3ffa",
   "metadata": {},
   "outputs": [],
   "source": []
  },
  {
   "cell_type": "code",
   "execution_count": null,
   "id": "a58754f2",
   "metadata": {},
   "outputs": [],
   "source": [
    "# from nltk.corpus import stopwords\n",
    "\n",
    "# def remove_stopwords(text):\n",
    "#     stop_words = stopwords.words('arabic')\n",
    "#     text = ' '.join(word for word in text.split() if word not in stop_words)\n",
    "#     return text\n",
    "\n",
    "# print(stopwords.words('arabic'))"
   ]
  },
  {
   "cell_type": "code",
   "execution_count": null,
   "id": "a57b4297",
   "metadata": {},
   "outputs": [],
   "source": [
    "\n",
    "# count_puncs = 0\n",
    "# for text in df['Tweet']:\n",
    "#     if text != remove_stopwords(text):\n",
    "#         print(text, \"vs.\", remove_stopwords(text), \"\\n\")\n",
    "#         count_puncs += 1\n",
    "            \n",
    "# print(\"Number of tweets containing ###:\", count_puncs)"
   ]
  },
  {
   "cell_type": "code",
   "execution_count": null,
   "id": "65c21a03",
   "metadata": {},
   "outputs": [],
   "source": []
  },
  {
   "cell_type": "code",
   "execution_count": null,
   "id": "82744cf1",
   "metadata": {},
   "outputs": [],
   "source": []
  },
  {
   "cell_type": "code",
   "execution_count": null,
   "id": "7eeb437b",
   "metadata": {},
   "outputs": [],
   "source": []
  },
  {
   "cell_type": "code",
   "execution_count": null,
   "id": "c23fcd8c",
   "metadata": {},
   "outputs": [],
   "source": []
  },
  {
   "cell_type": "code",
   "execution_count": null,
   "id": "b2a6a4ea",
   "metadata": {},
   "outputs": [],
   "source": []
  },
  {
   "cell_type": "code",
   "execution_count": null,
   "id": "a6fa371a",
   "metadata": {},
   "outputs": [],
   "source": []
  },
  {
   "cell_type": "code",
   "execution_count": null,
   "id": "a9ee163a",
   "metadata": {},
   "outputs": [],
   "source": []
  },
  {
   "cell_type": "code",
   "execution_count": null,
   "id": "6c3249ec",
   "metadata": {},
   "outputs": [],
   "source": []
  },
  {
   "cell_type": "code",
   "execution_count": null,
   "id": "012a6258",
   "metadata": {},
   "outputs": [],
   "source": []
  },
  {
   "cell_type": "code",
   "execution_count": null,
   "id": "d470950d",
   "metadata": {},
   "outputs": [],
   "source": []
  },
  {
   "cell_type": "code",
   "execution_count": null,
   "id": "a3777fad",
   "metadata": {},
   "outputs": [],
   "source": []
  },
  {
   "cell_type": "code",
   "execution_count": null,
   "id": "122fadd0",
   "metadata": {},
   "outputs": [],
   "source": []
  },
  {
   "cell_type": "code",
   "execution_count": null,
   "id": "1a0d2471",
   "metadata": {},
   "outputs": [],
   "source": []
  },
  {
   "cell_type": "code",
   "execution_count": null,
   "id": "8bfef85b",
   "metadata": {},
   "outputs": [],
   "source": []
  },
  {
   "cell_type": "code",
   "execution_count": null,
   "id": "c97374d8",
   "metadata": {},
   "outputs": [],
   "source": []
  },
  {
   "cell_type": "code",
   "execution_count": null,
   "id": "a6d48417",
   "metadata": {},
   "outputs": [],
   "source": []
  },
  {
   "cell_type": "code",
   "execution_count": null,
   "id": "6509c7b6",
   "metadata": {},
   "outputs": [],
   "source": []
  },
  {
   "cell_type": "code",
   "execution_count": null,
   "id": "a180fca8",
   "metadata": {},
   "outputs": [],
   "source": []
  },
  {
   "cell_type": "code",
   "execution_count": null,
   "id": "0f9bb29c",
   "metadata": {},
   "outputs": [],
   "source": []
  },
  {
   "cell_type": "code",
   "execution_count": null,
   "id": "5b369036",
   "metadata": {},
   "outputs": [],
   "source": []
  },
  {
   "cell_type": "code",
   "execution_count": null,
   "id": "0193b72e",
   "metadata": {},
   "outputs": [],
   "source": []
  },
  {
   "cell_type": "code",
   "execution_count": null,
   "id": "12c5e83f",
   "metadata": {},
   "outputs": [],
   "source": []
  },
  {
   "cell_type": "code",
   "execution_count": null,
   "id": "31200fd3",
   "metadata": {},
   "outputs": [],
   "source": []
  },
  {
   "cell_type": "code",
   "execution_count": null,
   "id": "927e7a65",
   "metadata": {},
   "outputs": [],
   "source": []
  },
  {
   "cell_type": "code",
   "execution_count": null,
   "id": "c704fb96",
   "metadata": {},
   "outputs": [],
   "source": []
  },
  {
   "cell_type": "code",
   "execution_count": null,
   "id": "88de05d9",
   "metadata": {},
   "outputs": [],
   "source": [
    "## lemmtization? / stemming? "
   ]
  },
  {
   "cell_type": "code",
   "execution_count": null,
   "id": "3f2c9ec3",
   "metadata": {},
   "outputs": [],
   "source": []
  },
  {
   "cell_type": "code",
   "execution_count": null,
   "id": "475b11aa",
   "metadata": {},
   "outputs": [],
   "source": []
  },
  {
   "cell_type": "code",
   "execution_count": null,
   "id": "52337a5e",
   "metadata": {},
   "outputs": [],
   "source": []
  },
  {
   "cell_type": "code",
   "execution_count": null,
   "id": "63dca377",
   "metadata": {},
   "outputs": [],
   "source": []
  },
  {
   "cell_type": "code",
   "execution_count": null,
   "id": "7d07a36e",
   "metadata": {},
   "outputs": [],
   "source": []
  },
  {
   "cell_type": "code",
   "execution_count": null,
   "id": "9e8b59b2",
   "metadata": {},
   "outputs": [],
   "source": []
  },
  {
   "cell_type": "code",
   "execution_count": null,
   "id": "4e092b52",
   "metadata": {},
   "outputs": [],
   "source": [
    "import re \n",
    "def remove_repeating_char(text):\n",
    "    return re.sub(r'(.)\\1+', r'\\1', text)"
   ]
  },
  {
   "cell_type": "code",
   "execution_count": null,
   "id": "1838453e",
   "metadata": {},
   "outputs": [],
   "source": []
  },
  {
   "cell_type": "code",
   "execution_count": null,
   "id": "54c59fb7",
   "metadata": {},
   "outputs": [],
   "source": [
    "from pyarabic.araby import strip_tashkeel\n",
    "from pyarabic.araby import strip_tatweel\n",
    "\n",
    "count_puncs = 0\n",
    "for index, text in enumerate(df['Tweet']):\n",
    "#     if text != strip_tashkeel(text):\n",
    "#         print(text, \"vs.\", strip_tashkeel(text), \"\\n\\n\")\n",
    "                \n",
    "#     if text != strip_tatweel(text):\n",
    "#         print(text, \"vs.\", strip_tatweel(text), \"\\n\\n\")\n",
    "\n",
    "#     if text != remove_punctuations(text):\n",
    "#         print(text, \"vs.\", remove_punctuations(text), \"\\n\\n\")\n",
    "        \n",
    "        count_puncs += 1\n",
    "            \n",
    "print(\"Number of tweets ####:\", count_puncs)"
   ]
  },
  {
   "cell_type": "code",
   "execution_count": null,
   "id": "cd22fdda",
   "metadata": {},
   "outputs": [],
   "source": []
  },
  {
   "cell_type": "code",
   "execution_count": null,
   "id": "12bc2e9e",
   "metadata": {},
   "outputs": [],
   "source": []
  },
  {
   "cell_type": "code",
   "execution_count": null,
   "id": "e5f3a90a",
   "metadata": {},
   "outputs": [],
   "source": []
  },
  {
   "cell_type": "code",
   "execution_count": null,
   "id": "966d4038",
   "metadata": {},
   "outputs": [],
   "source": []
  },
  {
   "cell_type": "code",
   "execution_count": null,
   "id": "cf8a30ab",
   "metadata": {},
   "outputs": [],
   "source": []
  },
  {
   "cell_type": "code",
   "execution_count": null,
   "id": "c9bbc427",
   "metadata": {},
   "outputs": [],
   "source": []
  },
  {
   "cell_type": "code",
   "execution_count": null,
   "id": "6544d1c9",
   "metadata": {},
   "outputs": [],
   "source": []
  },
  {
   "cell_type": "code",
   "execution_count": null,
   "id": "b67298ad",
   "metadata": {},
   "outputs": [],
   "source": []
  },
  {
   "cell_type": "code",
   "execution_count": null,
   "id": "56f96209",
   "metadata": {},
   "outputs": [],
   "source": []
  },
  {
   "cell_type": "code",
   "execution_count": null,
   "id": "2025c6f0",
   "metadata": {},
   "outputs": [],
   "source": []
  },
  {
   "cell_type": "code",
   "execution_count": null,
   "id": "d3496d1f",
   "metadata": {},
   "outputs": [],
   "source": []
  },
  {
   "cell_type": "code",
   "execution_count": null,
   "id": "45d2c1bb",
   "metadata": {},
   "outputs": [],
   "source": []
  },
  {
   "cell_type": "code",
   "execution_count": null,
   "id": "0a8d5fac",
   "metadata": {},
   "outputs": [],
   "source": []
  },
  {
   "cell_type": "code",
   "execution_count": null,
   "id": "346443ce",
   "metadata": {},
   "outputs": [],
   "source": []
  },
  {
   "cell_type": "code",
   "execution_count": null,
   "id": "22219d65",
   "metadata": {},
   "outputs": [],
   "source": []
  },
  {
   "cell_type": "code",
   "execution_count": null,
   "id": "454c12fa",
   "metadata": {},
   "outputs": [],
   "source": []
  },
  {
   "cell_type": "code",
   "execution_count": null,
   "id": "b4175510",
   "metadata": {},
   "outputs": [],
   "source": []
  },
  {
   "cell_type": "code",
   "execution_count": null,
   "id": "0a86d36e",
   "metadata": {},
   "outputs": [],
   "source": []
  },
  {
   "cell_type": "code",
   "execution_count": null,
   "id": "0af22bba",
   "metadata": {},
   "outputs": [],
   "source": []
  },
  {
   "cell_type": "code",
   "execution_count": null,
   "id": "d09053be",
   "metadata": {},
   "outputs": [],
   "source": []
  },
  {
   "cell_type": "code",
   "execution_count": null,
   "id": "17b8219a",
   "metadata": {},
   "outputs": [],
   "source": []
  },
  {
   "cell_type": "code",
   "execution_count": null,
   "id": "af46c38a",
   "metadata": {},
   "outputs": [],
   "source": []
  },
  {
   "cell_type": "code",
   "execution_count": null,
   "id": "1bef4d98",
   "metadata": {},
   "outputs": [],
   "source": []
  },
  {
   "cell_type": "code",
   "execution_count": null,
   "id": "8c981e8e",
   "metadata": {},
   "outputs": [],
   "source": []
  },
  {
   "cell_type": "code",
   "execution_count": null,
   "id": "55512d33",
   "metadata": {},
   "outputs": [],
   "source": []
  },
  {
   "cell_type": "code",
   "execution_count": null,
   "id": "bd5d7b76",
   "metadata": {},
   "outputs": [],
   "source": []
  },
  {
   "cell_type": "code",
   "execution_count": null,
   "id": "e7eb8f76",
   "metadata": {},
   "outputs": [],
   "source": []
  },
  {
   "cell_type": "code",
   "execution_count": null,
   "id": "29235c35",
   "metadata": {},
   "outputs": [],
   "source": []
  },
  {
   "cell_type": "code",
   "execution_count": null,
   "id": "7ad3bed7",
   "metadata": {},
   "outputs": [],
   "source": []
  },
  {
   "cell_type": "code",
   "execution_count": null,
   "id": "2a432d32",
   "metadata": {},
   "outputs": [],
   "source": []
  },
  {
   "cell_type": "code",
   "execution_count": null,
   "id": "eee2837b",
   "metadata": {},
   "outputs": [],
   "source": []
  },
  {
   "cell_type": "code",
   "execution_count": null,
   "id": "07991bf6",
   "metadata": {},
   "outputs": [],
   "source": []
  },
  {
   "cell_type": "code",
   "execution_count": null,
   "id": "f8f057ab",
   "metadata": {},
   "outputs": [],
   "source": []
  },
  {
   "cell_type": "code",
   "execution_count": null,
   "id": "8e27bde4",
   "metadata": {},
   "outputs": [],
   "source": []
  },
  {
   "cell_type": "code",
   "execution_count": null,
   "id": "8cfb2b47",
   "metadata": {},
   "outputs": [],
   "source": []
  },
  {
   "cell_type": "code",
   "execution_count": null,
   "id": "64b5ea38",
   "metadata": {},
   "outputs": [],
   "source": []
  },
  {
   "cell_type": "code",
   "execution_count": null,
   "id": "4d2c6fb0",
   "metadata": {},
   "outputs": [],
   "source": []
  },
  {
   "cell_type": "code",
   "execution_count": null,
   "id": "d548fb76",
   "metadata": {},
   "outputs": [],
   "source": []
  },
  {
   "cell_type": "code",
   "execution_count": null,
   "id": "775ea2a1",
   "metadata": {},
   "outputs": [],
   "source": []
  },
  {
   "cell_type": "code",
   "execution_count": null,
   "id": "4c07dd54",
   "metadata": {},
   "outputs": [],
   "source": []
  },
  {
   "cell_type": "code",
   "execution_count": null,
   "id": "ac29e17f",
   "metadata": {},
   "outputs": [],
   "source": []
  },
  {
   "cell_type": "code",
   "execution_count": null,
   "id": "c708ab78",
   "metadata": {},
   "outputs": [],
   "source": []
  },
  {
   "cell_type": "code",
   "execution_count": null,
   "id": "82af2786",
   "metadata": {},
   "outputs": [],
   "source": []
  },
  {
   "cell_type": "code",
   "execution_count": null,
   "id": "af64531f",
   "metadata": {},
   "outputs": [],
   "source": []
  },
  {
   "cell_type": "code",
   "execution_count": null,
   "id": "0c676193",
   "metadata": {},
   "outputs": [],
   "source": []
  },
  {
   "cell_type": "code",
   "execution_count": null,
   "id": "12562bc5",
   "metadata": {},
   "outputs": [],
   "source": []
  },
  {
   "cell_type": "code",
   "execution_count": null,
   "id": "8abbce5f",
   "metadata": {},
   "outputs": [],
   "source": []
  },
  {
   "cell_type": "code",
   "execution_count": null,
   "id": "08eabc0f",
   "metadata": {},
   "outputs": [],
   "source": []
  },
  {
   "cell_type": "code",
   "execution_count": null,
   "id": "6a708da3",
   "metadata": {},
   "outputs": [],
   "source": []
  },
  {
   "cell_type": "code",
   "execution_count": null,
   "id": "0011addf",
   "metadata": {},
   "outputs": [],
   "source": []
  },
  {
   "cell_type": "code",
   "execution_count": null,
   "id": "6359c53f",
   "metadata": {},
   "outputs": [],
   "source": []
  },
  {
   "cell_type": "code",
   "execution_count": null,
   "id": "3badf54a",
   "metadata": {},
   "outputs": [],
   "source": []
  },
  {
   "cell_type": "code",
   "execution_count": null,
   "id": "af6c79cd",
   "metadata": {},
   "outputs": [],
   "source": []
  },
  {
   "cell_type": "code",
   "execution_count": null,
   "id": "db59874d",
   "metadata": {},
   "outputs": [],
   "source": []
  },
  {
   "cell_type": "code",
   "execution_count": null,
   "id": "1b6dac80",
   "metadata": {},
   "outputs": [],
   "source": []
  },
  {
   "cell_type": "code",
   "execution_count": null,
   "id": "cfcec899",
   "metadata": {},
   "outputs": [],
   "source": []
  },
  {
   "cell_type": "code",
   "execution_count": null,
   "id": "1138efe0",
   "metadata": {},
   "outputs": [],
   "source": []
  },
  {
   "cell_type": "code",
   "execution_count": null,
   "id": "989a035e",
   "metadata": {},
   "outputs": [],
   "source": [
    "######################################## IGNORE THIS ########################################"
   ]
  },
  {
   "cell_type": "code",
   "execution_count": null,
   "id": "f925a86d",
   "metadata": {},
   "outputs": [],
   "source": []
  },
  {
   "cell_type": "code",
   "execution_count": null,
   "id": "779cfdce",
   "metadata": {
    "scrolled": false
   },
   "outputs": [],
   "source": [
    "# let-mi_train_part.csv\n",
    "\n",
    "df2 = pd.read_csv(\"datasets/let-mi_train_part.csv\")\n",
    "\n",
    "df2"
   ]
  },
  {
   "cell_type": "code",
   "execution_count": null,
   "id": "f00c8c6e",
   "metadata": {},
   "outputs": [],
   "source": [
    "# describe the data\n",
    "\n",
    "df2.describe()"
   ]
  },
  {
   "cell_type": "code",
   "execution_count": null,
   "id": "1561a6d6",
   "metadata": {},
   "outputs": [],
   "source": [
    "# check null values\n",
    "\n",
    "df2.isnull().sum()"
   ]
  },
  {
   "cell_type": "code",
   "execution_count": null,
   "id": "647cd50c",
   "metadata": {},
   "outputs": [],
   "source": [
    "# check duplicate reviews\n",
    "\n",
    "df2.duplicated().sum()"
   ]
  },
  {
   "cell_type": "code",
   "execution_count": null,
   "id": "b5eec0c0",
   "metadata": {},
   "outputs": [],
   "source": [
    "# Print duplicates to see what's happening and to check if they have the same sentiment\n",
    "\n",
    "# Identify duplicates in the 'Tweet' column\n",
    "duplicated_tweets2 = df2[\"text\"].duplicated(keep=False)  # `keep=False` marks all duplicates as True\n",
    "\n",
    "# Filter the DataFrame to keep only duplicates\n",
    "duplicates_df2 = df2[duplicated_tweets2]\n",
    "\n",
    "# Sort the DataFrame based on the 'Tweet' column to group duplicates together for easier inspection\n",
    "duplicates_df_sorted2 = duplicates_df2.sort_values(by=\"text\")\n",
    "\n",
    "duplicates_df_sorted2"
   ]
  },
  {
   "cell_type": "code",
   "execution_count": null,
   "id": "dbae8059",
   "metadata": {},
   "outputs": [],
   "source": [
    "# Remove duplicated tweets based on the 'Tweet' column, keeping the first occurrence\n",
    "df2 = df2.drop_duplicates(subset='text', keep='first')\n",
    "\n",
    "# Print the shape of the original and cleaned DataFrames to see the number of rows removed\n",
    "print(f\"Cleaned DataFrame shape: {df2.shape}\")"
   ]
  },
  {
   "cell_type": "code",
   "execution_count": null,
   "id": "8967da75",
   "metadata": {},
   "outputs": [],
   "source": [
    "# Print the unique values and their counts for the 'category' column \n",
    "\n",
    "# Get counts and percentages of unique values in the 'Sentiment' column\n",
    "sentiment_counts2 = df2['category'].value_counts()\n",
    "sentiment_percentages2 = df2['category'].value_counts(normalize=True) * 100\n",
    "\n",
    "# Print the counts and percentages\n",
    "print(\"Counts of unique sentiment values:\")\n",
    "print(sentiment_counts2)\n",
    "print(\"\\nPercentages of unique sentiment values:\")\n",
    "print(sentiment_percentages2)"
   ]
  },
  {
   "cell_type": "code",
   "execution_count": null,
   "id": "f5179812",
   "metadata": {},
   "outputs": [],
   "source": [
    "# Check for outliers\n",
    "\n",
    "# Calculate the length of each review\n",
    "df2['Tweet_Length'] = df2['text'].apply(len)"
   ]
  },
  {
   "cell_type": "code",
   "execution_count": null,
   "id": "f2be6f97",
   "metadata": {},
   "outputs": [],
   "source": [
    "# Get descriptive analysis \n",
    "\n",
    "df2['Tweet_Length'].describe()"
   ]
  },
  {
   "cell_type": "code",
   "execution_count": null,
   "id": "706b21d2",
   "metadata": {},
   "outputs": [],
   "source": [
    "# Plot Tweet Lengths\n",
    "\n",
    "sns.boxplot(x=df2['Tweet_Length'])\n",
    "plt.title('Box Plot of Tweet Lengths')\n",
    "plt.xlabel('Tweet Length')\n",
    "plt.show()"
   ]
  },
  {
   "cell_type": "code",
   "execution_count": null,
   "id": "5d1f108c",
   "metadata": {},
   "outputs": [],
   "source": [
    "# IQR method for identifying outliers\n",
    "\n",
    "# Calculate the first and third quartile\n",
    "Q1 = df2['Tweet_Length'].quantile(0.25)\n",
    "Q3 = df2['Tweet_Length'].quantile(0.75)\n",
    "\n",
    "# Calculate the Interquartile Range (IQR)\n",
    "IQR = Q3 - Q1\n",
    "\n",
    "# Define the bounds for non-outliers\n",
    "lower_bound = Q1 - 1.5 * IQR\n",
    "upper_bound = Q3 + 1.5 * IQR\n",
    "\n",
    "outliers = df2[(df2['Tweet_Length'] < lower_bound) | (df2['Tweet_Length'] > upper_bound)]\n",
    "print(f\"Number of outliers: {len(outliers)}\")"
   ]
  },
  {
   "cell_type": "code",
   "execution_count": null,
   "id": "402646ae",
   "metadata": {},
   "outputs": [],
   "source": []
  },
  {
   "cell_type": "code",
   "execution_count": null,
   "id": "0d3d9c3a",
   "metadata": {},
   "outputs": [],
   "source": []
  },
  {
   "cell_type": "code",
   "execution_count": null,
   "id": "4094cd7d",
   "metadata": {},
   "outputs": [],
   "source": []
  },
  {
   "cell_type": "code",
   "execution_count": null,
   "id": "1b15c039",
   "metadata": {},
   "outputs": [],
   "source": []
  },
  {
   "cell_type": "code",
   "execution_count": null,
   "id": "ecc8985d",
   "metadata": {},
   "outputs": [],
   "source": []
  },
  {
   "cell_type": "code",
   "execution_count": null,
   "id": "8d7d69c4",
   "metadata": {},
   "outputs": [],
   "source": []
  },
  {
   "cell_type": "code",
   "execution_count": null,
   "id": "030163d0",
   "metadata": {},
   "outputs": [],
   "source": []
  },
  {
   "cell_type": "code",
   "execution_count": null,
   "id": "dff7919f",
   "metadata": {},
   "outputs": [],
   "source": []
  },
  {
   "cell_type": "code",
   "execution_count": null,
   "id": "fdc8b83b",
   "metadata": {},
   "outputs": [],
   "source": []
  },
  {
   "cell_type": "code",
   "execution_count": null,
   "id": "d1a0768d",
   "metadata": {},
   "outputs": [],
   "source": []
  },
  {
   "cell_type": "code",
   "execution_count": null,
   "id": "f2a42f5a",
   "metadata": {},
   "outputs": [],
   "source": []
  }
 ],
 "metadata": {
  "kernelspec": {
   "display_name": "Python 3 (ipykernel)",
   "language": "python",
   "name": "python3"
  },
  "language_info": {
   "codemirror_mode": {
    "name": "ipython",
    "version": 3
   },
   "file_extension": ".py",
   "mimetype": "text/x-python",
   "name": "python",
   "nbconvert_exporter": "python",
   "pygments_lexer": "ipython3",
   "version": "3.11.3"
  }
 },
 "nbformat": 4,
 "nbformat_minor": 5
}
